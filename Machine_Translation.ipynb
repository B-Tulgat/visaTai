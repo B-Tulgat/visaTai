{
 "cells": [
  {
   "cell_type": "code",
   "execution_count": 1,
   "id": "fa557156-80e3-48de-9856-70e93ba91b66",
   "metadata": {},
   "outputs": [
    {
     "name": "stdout",
     "output_type": "stream",
     "text": [
      "Using device: cuda\n"
     ]
    },
    {
     "data": {
      "application/vnd.jupyter.widget-view+json": {
       "model_id": "25d4a9cd7c6044219d5edd60848aa322",
       "version_major": 2,
       "version_minor": 0
      },
      "text/plain": [
       "model.safetensors:   0%|          | 0.00/5.48G [00:00<?, ?B/s]"
      ]
     },
     "metadata": {},
     "output_type": "display_data"
    }
   ],
   "source": [
    "from transformers import AutoTokenizer, AutoModelForSeq2SeqLM\n",
    "import torch\n",
    "\n",
    "# Check for GPU availability\n",
    "device = torch.device(\"cuda\" if torch.cuda.is_available() else \"cpu\")\n",
    "print(f\"Using device: {device}\")\n",
    "\n",
    "# Load the model and tokenizer\n",
    "model_name = \"facebook/nllb-200-distilled-1.3B\"\n",
    "tokenizer = AutoTokenizer.from_pretrained(model_name)\n",
    "model = AutoModelForSeq2SeqLM.from_pretrained(model_name)\n",
    "\n",
    "# Move model to GPU if available\n",
    "model = model.to(device)\n",
    "\n",
    "# Correct language codes for NLLB-200\n",
    "# NOTE: NLLB-200 uses 'khk_Cyrl' for Mongolian (Halh Mongolian in Cyrillic script)\n",
    "LANG_CODES = {\n",
    "    \"english\": \"eng_Latn\",\n",
    "    \"mongolian\": \"khk_Cyrl\",  # Fixed: was \"mon_Cyrl\", should be \"khk_Cyrl\"\n",
    "}\n",
    "\n",
    "def translate_text(text, source_lang, target_lang):\n",
    "    \"\"\"\n",
    "    Translate text using NLLB-200 model\n",
    "    \n",
    "    Args:\n",
    "        text (str): Text to translate\n",
    "        source_lang (str): Source language code (e.g., \"eng_Latn\", \"khk_Cyrl\")\n",
    "        target_lang (str): Target language code (e.g., \"eng_Latn\", \"khk_Cyrl\")\n",
    "    \n",
    "    Returns:\n",
    "        str: Translated text\n",
    "    \"\"\"\n",
    "    # Tokenize input text and move to GPU\n",
    "    inputs = tokenizer(text, return_tensors=\"pt\", padding=True)\n",
    "    inputs = {k: v.to(device) for k, v in inputs.items()}\n",
    "    \n",
    "    # Get the target language token ID for forced decoding\n",
    "    target_lang_id = tokenizer.convert_tokens_to_ids(target_lang)\n",
    "    \n",
    "    # Generate translation\n",
    "    with torch.no_grad():\n",
    "        outputs = model.generate(\n",
    "            **inputs,\n",
    "            forced_bos_token_id=target_lang_id,\n",
    "            max_length=512,\n",
    "            num_beams=5,\n",
    "            early_stopping=True,\n",
    "            do_sample=False,\n",
    "            temperature=1.0,\n",
    "        )\n",
    "    \n",
    "    # Decode the output\n",
    "    translated_text = tokenizer.batch_decode(outputs, skip_special_tokens=True)[0]\n",
    "    \n",
    "    return translated_text\n",
    "\n",
    "def english_to_mongolian(text):\n",
    "    \"\"\"Translate English text to Mongolian\"\"\"\n",
    "    return translate_text(text, LANG_CODES[\"english\"], LANG_CODES[\"mongolian\"])\n",
    "\n",
    "def mongolian_to_english(text):\n",
    "    \"\"\"Translate Mongolian text to English\"\"\"\n",
    "    return translate_text(text, LANG_CODES[\"mongolian\"], LANG_CODES[\"english\"])\n"
   ]
  },
  {
   "cell_type": "code",
   "execution_count": 6,
   "id": "259cd70a-b60c-4ff5-8012-db71b9f181b1",
   "metadata": {},
   "outputs": [],
   "source": [
    "import time\n",
    "\n",
    "# Test English to Mongolian\n",
    "english_text = \"\"\"Mongolia[b] is a landlocked country in East Asia, bordered by Russia to the north and China to the south and southeast. It covers an area of 1,564,116 square kilometres (603,909 square miles), with a population of 3.5 million, making it the world's most sparsely populated sovereign state. Mongolia is the world's largest landlocked country that does not border an inland sea, and much of its area is covered by grassy steppe, with mountains to the north and west and the Gobi Desert to the south. Ulaanbaatar, the capital and largest city, is home to roughly half of the country's population.\n",
    "\n",
    "The territory of modern-day Mongolia has been ruled by various nomadic empires, including the Xiongnu, the Xianbei, the Rouran, the First Turkic Khaganate, the Second Turkic Khaganate, the Uyghur Khaganate and others. In 1206, Genghis Khan founded the Mongol Empire, which became the largest contiguous land empire in history. His grandson Kublai Khan conquered China proper and established the Yuan dynasty. After the collapse of the Yuan, the Mongols retreated to Mongolia and resumed their earlier pattern of factional conflict, except during the era of Dayan Khan and Tumen Zasagt Khan.\n",
    "\n",
    "In the 16th century, Tibetan Buddhism spread to Mongolia, being further led by the Manchu-founded Qing dynasty, which absorbed the country in the 17th century. By the early 20th century, almost one-third of the adult male population were Buddhist monks.[13][14] After the collapse of the Qing dynasty in 1911, Mongolia declared independence, and achieved actual independence from the Republic of China in 1921. Shortly thereafter, the country became a satellite state of the Soviet Union. In 1924, the Mongolian People's Republic was founded as a socialist state.[15] After the anti-communist revolutions of 1989, Mongolia conducted its own peaceful democratic revolution in early 1990. This led to a multi-party system, a new constitution of 1992, and transition to a market economy.\n",
    "\n",
    "Approximately 30% of the population is nomadic or semi-nomadic; horse culture remains integral. Buddhism is the majority religion (51.7%), with the nonreligious being the second-largest group (40.6%). Islam is the third-largest religious identification (3.2%), concentrated among ethnic Kazakhs. The vast majority of citizens are ethnic Mongols, with roughly 5% of the population being Kazakhs, Tuvans, and other ethnic minorities, who are especially concentrated in the western regions. Mongolia is a member of the United Nations, Asia Cooperation Dialogue, G77, Asian Infrastructure Investment Bank, Non-Aligned Movement and a NATO global partner. Mongolia joined the World Trade Organization in 1997 and seeks to expand its participation in regional economic and trade groups.\"\"\"\n",
    "\n",
    "\n",
    "en_texts = english_text.split('.')\n",
    "\n",
    "start_time = time.time()\n",
    "mongolian_translation = [english_to_mongolian(en_text) for en_text in en_texts]\n",
    "end_time = time.time()\n",
    "\n"
   ]
  },
  {
   "cell_type": "code",
   "execution_count": 11,
   "id": "499fba8a-f5b2-4dad-9ba2-a46228a80d23",
   "metadata": {},
   "outputs": [
    {
     "name": "stdout",
     "output_type": "stream",
     "text": [
      "English: Mongolia[b] is a landlocked country in East Asia, bordered by Russia to the north and China to the south and southeast. It covers an area of 1,564,116 square kilometres (603,909 square miles), with a population of 3.5 million, making it the world's most sparsely populated sovereign state. Mongolia is the world's largest landlocked country that does not border an inland sea, and much of its area is covered by grassy steppe, with mountains to the north and west and the Gobi Desert to the south. Ulaanbaatar, the capital and largest city, is home to roughly half of the country's population.\n",
      "\n",
      "The territory of modern-day Mongolia has been ruled by various nomadic empires, including the Xiongnu, the Xianbei, the Rouran, the First Turkic Khaganate, the Second Turkic Khaganate, the Uyghur Khaganate and others. In 1206, Genghis Khan founded the Mongol Empire, which became the largest contiguous land empire in history. His grandson Kublai Khan conquered China proper and established the Yuan dynasty. After the collapse of the Yuan, the Mongols retreated to Mongolia and resumed their earlier pattern of factional conflict, except during the era of Dayan Khan and Tumen Zasagt Khan.\n",
      "\n",
      "In the 16th century, Tibetan Buddhism spread to Mongolia, being further led by the Manchu-founded Qing dynasty, which absorbed the country in the 17th century. By the early 20th century, almost one-third of the adult male population were Buddhist monks.[13][14] After the collapse of the Qing dynasty in 1911, Mongolia declared independence, and achieved actual independence from the Republic of China in 1921. Shortly thereafter, the country became a satellite state of the Soviet Union. In 1924, the Mongolian People's Republic was founded as a socialist state.[15] After the anti-communist revolutions of 1989, Mongolia conducted its own peaceful democratic revolution in early 1990. This led to a multi-party system, a new constitution of 1992, and transition to a market economy.\n",
      "\n",
      "Approximately 30% of the population is nomadic or semi-nomadic; horse culture remains integral. Buddhism is the majority religion (51.7%), with the nonreligious being the second-largest group (40.6%). Islam is the third-largest religious identification (3.2%), concentrated among ethnic Kazakhs. The vast majority of citizens are ethnic Mongols, with roughly 5% of the population being Kazakhs, Tuvans, and other ethnic minorities, who are especially concentrated in the western regions. Mongolia is a member of the United Nations, Asia Cooperation Dialogue, G77, Asian Infrastructure Investment Bank, Non-Aligned Movement and a NATO global partner. Mongolia joined the World Trade Organization in 1997 and seeks to expand its participation in regional economic and trade groups.\n",
      "Mongolian: Монгол Улс нь зүүн Азийн далайд гарцгүй улс бөгөөд хойд талаараа ОХУ, өмнөд болон зүүн өмнөд талаараа Хятадтай хиллэдэг. Энэ нь 1,564,116 хавтгай дөрвөлжин километр (603,909 хавтгай дөрвөлжин миль) талбайг хамардаг. 5 сая хүн амтай, дэлхийн хамгийн цөөн хүн амтай бүрэн эрхт улс Монгол улс дэлхийн хамгийн том далайд гарцгүй, далайд гарцгүй улс бөгөөд нутгийнхаа дийлэнх хэсгийг өвс ногоон далайн талбай, хойд, баруун хэсгээр нь уулс, өмнөд хэсгээр нь Гоби цөл эзэлдэг Нийслэл бөгөөд хамгийн том хот болох Улаанбаатар хотод тус улсын хүн амын бараг тал нь амьдардаг Орчин цагийн Монгол Улсын нутаг дэвсгэрийг янз бүрийн нүүдэлчин эзэнт гүрнүүд, тэр дундаа Сионну, Сианбей, Руран, Анхны Туркийн хаганат, Хоёр дахь Туркийн хаганат, Уйгурын хаганат болон бусад нь захирч байсан 1206 онд Чингис хаан Монголын эзэнт гүрнийг байгуулсан. Түүний ач хүү Хубилай хан Хятадыг эзэлж, Юань гүрнийг байгуулсан. Юань гүрний уналтын дараа монголчууд Монголд буцаж ирж, Даян хан, Түмэн Засагт хааны эрин үедээс бусад үед бүлэглэлийн зөрчлийн хуучин хэв маягаа сэргээжээ. 16-р зуунд Тибетийн буддизм Монголд тархсан. 20 дугаар зууны эхээр насанд хүрсэн эрчүүдийн бараг гуравны нэг нь буддын лам байсан [1] [2] 1911 онд Чин гүрний уналтын дараа Монгол улс тусгаар тогтнолоо тунхаглаж, 1921 онд Хятадын Бүгд Найрамдах Улсаас жинхэнэ тусгаар тогтнолыг олж авсан. Удалгүй тус улс Зөвлөлт Холбооны улсаас тусгаарлагджээ 1924 онд Монголын Ардын Бүгд Найрамдах Улс социалист улстай байгуулагдсан [1] 1989 оны коммунист эсэргүүцлийн хувьсгалын дараа Монгол улс 1990 оны эхээр өөрийнх нь энх тайван ардчилсан хувьсгалыг явуулсан. Энэ нь олон намын тогтолцоо, 1992 оны шинэ Үндсэн хууль, зах зээлийн эдийн засагт шилжихэд хүргэсэн. Хүн амын 30 орчим хувь нь нүүдэлчин эсвэл хагас нүүдэлчин; морьны соёл хэвээр байна Буддизм бол олонхийн шашин (51 7%), шашингүй хүмүүс хоёр дахь том бүлэг (40 6%) Исламын шашин гурав дахь том шашин юм (3 2%), этник Казахстанчуудын дунд төвлөрсөн Иргэдийн дийлэнх нь монгол үндэстэн бөгөөд хүн амын ойролцоогоор 5% нь Казак, Тува болон бусад үндэстний цөөнхийнх бөгөөд тэдгээр нь ялангуяа баруун бүс нутагт төвлөрсөн байна Монгол Улс нь Нэгдсэн Үндэстний Байгууллага, Азийн хамтын ажиллагааны яриа хэлэлцээ, G77, Азийн дэд бүтцийн хөрөнгө оруулалтын банк, Үндэстэн бусдын хөдөлгөөн, НАТО-гийн дэлхийн түнш Монгол Улс 1997 онд Дэлхийн худалдааны байгууллагад элсэж, бүс нутгийн эдийн засаг, худалдааны бүлэглэлд оролцоог өргөжүүлэхийг зорьж байна .\n",
      "Time taken (English to Mongolian): 10.5108 seconds\n"
     ]
    }
   ],
   "source": [
    "print(f\"English: {english_text}\")\n",
    "print(f'Mongolian: {\" \".join(mongolian_translation)}')\n",
    "print(f\"Time taken (English to Mongolian): {end_time - start_time:.4f} seconds\")\n"
   ]
  },
  {
   "cell_type": "code",
   "execution_count": 12,
   "id": "a08cd4e8-6a10-4716-b2c1-753bf2b19481",
   "metadata": {},
   "outputs": [
    {
     "name": "stdout",
     "output_type": "stream",
     "text": [
      "\n",
      "Mongolian:   Монгол Улс[10] нь дорнод болон төв Азид орших бүрэн эрхт улс. Хойгуураа Оросын Холбооны Улс, өмнө талаараа БНХАУ-тай хиллэдэг, далайд гарцгүй улс юм. Улсын нийслэл нь Улаанбаатар бөгөөд улс доторх цорын ганц их хүн амтай хот.\n",
      "\n",
      "Монгол Улс нь 1,564,116 км2 талбай нутаг дэвсгэртэй, 2022 оны байдлаар 3.398 сая гаруй хүн амтай байна. Нийт хүн амын 95 хувийг монгол үндэстэн, 4 гаруй хувийг Казах үндэстэн эзэлдэг.\n",
      "\n",
      "Өнөөгийн Монгол Улсын нутаг дэвсгэр дээр хүн анх суурьшсан цагаас эхлэн нүүдэлчин соёл иргэншил эзэгнэн, Монголын Хүннү, Сяньби, Нирун, Түрэг Уйгур, Кидан улс байгуулагдан оршин тогтнож байв. 1206 онд Чингис хаан Их Монгол Улсыг байгуулан Евроазийг эзэлсэн эзэнт гүрнийг үүсгэн байгуулжээ. Түүний ач хүү Хубилай хаан Хятадын эх газрыг бүхэлд нь эзэлж, Юань улсыг (1271-1368) байгуулж улсын нийслэлийг Дайду буюу одоогийн Бээжинд шилжүүлсэн байна. Юань улс унасны дараа төрийн нэгдмэл захиргаа суларч монголчууд бие даасан шинжтэй хэд хэдэн хэсэгт хуваагдан орших болсон.\n",
      "\n",
      "17-18-р зуунд Зүрчидийн Манж Чин улсын мэдэлд орсон ч 1911 онд тусгаар тогтнолоо сэргээн тогтоосон. 20-р зуунд Монгол улс нь олон улсад тусгаар тогтнолоо бүрэн олж авсны дараа нийгэм, эдийн засаг, төр захиргааны хувьд Зөвлөлт Холбоот Улс тэргүүтэй социалист орнуудтай хамтын ажиллагаа бүхий холбоотон улс байв. 1924 онд түүхэндээ анх удаа Үндсэн хуультай болж, Бүгд Найрамдах Ардын засаглалыг тунхаглаж, социалист орон болсон.\n",
      "\n",
      "1990 оны Ардчилсан хувьсгалаар Монгол Улс социализмаас ардчилсан, чөлөөт зах зээлийн эдийн засагт нийгэмд шилжин орсон.\n",
      "\n",
      "Монгол Улс нь хөгжиж буй орон юм. Дотоодын нийт бүтээгдэхүүний хэмжээгээр (26.8 тэрбум ам.доллар) дэлхийд 111-т жагсаж, нэг хүнд ноогдох хэмжээ 11,882 $ байна. Хөдөө аж ахуй, нүүдлийн мал аж ахуйн уламжлалтай. Зэс, нүүрс экспортолдог. Мөнгөний нэгж — төгрөг.\n",
      "\n",
      "Монгол Улс нь НҮБ-ын 191 улс болон Гэгээн Ширээт Улс, Палестин, Европын Холбоотой дипломат харилцаа тогтоосон бөгөөд Нэгдсэн Үндэстний Байгууллага, Дэлхийн Худалдааны Байгууллага, Олон Улсын Валютын Сан, Европын Аюулгүй Байдал Хамтын Ажиллагааны Байгууллагын гишүүн улс юм. \n",
      "English: Mongolia is a sovereign state[10] Hoyguraa Orossin Холбооны Улс, before their BНХАУ-Thai killings, Dalaid has no country of his own. It's the capital of Ulaanbaatar and the country's only population centre. Mongolia has 1,564,116 km2 of territory as of 2022 More than 398 million people live here. Ninety-five percent of the population is Mongolian, and more than four percent is Kazakh. Өнөөгийн Монгол Улсын нутаг дэвсгэр дээр хүн анх суурьшсан цагаас эхлэн нүүдэлчин соёл иргэншил эзэгнэн, Монголын Хүннү, Сяньби, Нирун, Турэг Уйгур, Кидан улс байгуулагдан оршин тогтнож байсан In 1206 Genghis Khan founded the Mongol Empire in Europe. His eldest son, Khubilai, emperor of China, seized the entire territory of the Yuan dynasty (1271-1368) and transferred the capital to Daidu, now Beijing. Yuan country inherited after the state unitary reserve of the so-called Mongol people became a self-governing state with several parts divided into regions. 17-18-р зуунд Зурчидин Манж Чин улсын мэдэлд орсон ч 1911 онд тусгаар тогтнолоо сэргээн тогтоосон is a Chinese television series that aired on NBC. 20-р зунд Mongolia became an internationally independent country after gaining full independence as a social, economic, and political entity from the Soviet Union. In 1924, for the first time in its history, the Republic of the Congo became a socialist country. 1990s Ardchilsan revolutionary Mongolian socialism as a democracy, free market economy society shilling orson Mongolia is a developing country. Total quantity of products (26 8 billion am Dollar) in the world 111-t list, per capita income is $11,882 I'm going to fuck you. I'm going to fuck you. This is a coal exporter. Money in the bank . Mongolia is a member of the United Nations, the World Trade Organization, the International Monetary Fund, and the European Monetary Fund. - What ?\n",
      "Time taken (Mongolian to English): 8.5407 seconds\n"
     ]
    }
   ],
   "source": [
    "# Test Mongolian to English\n",
    "mongolian_text = \"\"\"  Монгол Улс[10] нь дорнод болон төв Азид орших бүрэн эрхт улс. Хойгуураа Оросын Холбооны Улс, өмнө талаараа БНХАУ-тай хиллэдэг, далайд гарцгүй улс юм. Улсын нийслэл нь Улаанбаатар бөгөөд улс доторх цорын ганц их хүн амтай хот.\n",
    "\n",
    "Монгол Улс нь 1,564,116 км2 талбай нутаг дэвсгэртэй, 2022 оны байдлаар 3.398 сая гаруй хүн амтай байна. Нийт хүн амын 95 хувийг монгол үндэстэн, 4 гаруй хувийг Казах үндэстэн эзэлдэг.\n",
    "\n",
    "Өнөөгийн Монгол Улсын нутаг дэвсгэр дээр хүн анх суурьшсан цагаас эхлэн нүүдэлчин соёл иргэншил эзэгнэн, Монголын Хүннү, Сяньби, Нирун, Түрэг Уйгур, Кидан улс байгуулагдан оршин тогтнож байв. 1206 онд Чингис хаан Их Монгол Улсыг байгуулан Евроазийг эзэлсэн эзэнт гүрнийг үүсгэн байгуулжээ. Түүний ач хүү Хубилай хаан Хятадын эх газрыг бүхэлд нь эзэлж, Юань улсыг (1271-1368) байгуулж улсын нийслэлийг Дайду буюу одоогийн Бээжинд шилжүүлсэн байна. Юань улс унасны дараа төрийн нэгдмэл захиргаа суларч монголчууд бие даасан шинжтэй хэд хэдэн хэсэгт хуваагдан орших болсон.\n",
    "\n",
    "17-18-р зуунд Зүрчидийн Манж Чин улсын мэдэлд орсон ч 1911 онд тусгаар тогтнолоо сэргээн тогтоосон. 20-р зуунд Монгол улс нь олон улсад тусгаар тогтнолоо бүрэн олж авсны дараа нийгэм, эдийн засаг, төр захиргааны хувьд Зөвлөлт Холбоот Улс тэргүүтэй социалист орнуудтай хамтын ажиллагаа бүхий холбоотон улс байв. 1924 онд түүхэндээ анх удаа Үндсэн хуультай болж, Бүгд Найрамдах Ардын засаглалыг тунхаглаж, социалист орон болсон.\n",
    "\n",
    "1990 оны Ардчилсан хувьсгалаар Монгол Улс социализмаас ардчилсан, чөлөөт зах зээлийн эдийн засагт нийгэмд шилжин орсон.\n",
    "\n",
    "Монгол Улс нь хөгжиж буй орон юм. Дотоодын нийт бүтээгдэхүүний хэмжээгээр (26.8 тэрбум ам.доллар) дэлхийд 111-т жагсаж, нэг хүнд ноогдох хэмжээ 11,882 $ байна. Хөдөө аж ахуй, нүүдлийн мал аж ахуйн уламжлалтай. Зэс, нүүрс экспортолдог. Мөнгөний нэгж — төгрөг.\n",
    "\n",
    "Монгол Улс нь НҮБ-ын 191 улс болон Гэгээн Ширээт Улс, Палестин, Европын Холбоотой дипломат харилцаа тогтоосон бөгөөд Нэгдсэн Үндэстний Байгууллага, Дэлхийн Худалдааны Байгууллага, Олон Улсын Валютын Сан, Европын Аюулгүй Байдал Хамтын Ажиллагааны Байгууллагын гишүүн улс юм. \"\"\"\n",
    "\n",
    "mon_texts = mongolian_text.split('.')\n",
    "\n",
    "start_time = time.time()\n",
    "\n",
    "english_translation = [mongolian_to_english(mon_text) for mon_text in mon_texts]\n",
    "\n",
    "end_time = time.time()\n",
    "\n",
    "\n",
    "print(f\"\\nMongolian: {mongolian_text}\")\n",
    "print(f'English: {\" \".join(english_translation)}')\n",
    "print(f\"Time taken (Mongolian to English): {end_time - start_time:.4f} seconds\")"
   ]
  },
  {
   "cell_type": "code",
   "execution_count": null,
   "id": "d88c734f-777d-4520-b203-1bf624d27291",
   "metadata": {},
   "outputs": [
    {
     "name": "stdout",
     "output_type": "stream",
     "text": [
      "Using device: cuda\n"
     ]
    },
    {
     "data": {
      "application/vnd.jupyter.widget-view+json": {
       "model_id": "31adcd65ee1a4abfb9d29a3b1382ab9f",
       "version_major": 2,
       "version_minor": 0
      },
      "text/plain": [
       "model.safetensors:   0%|          | 0.00/5.48G [00:00<?, ?B/s]"
      ]
     },
     "metadata": {},
     "output_type": "display_data"
    },
    {
     "name": "stdout",
     "output_type": "stream",
     "text": [
      " * Serving Flask app '__main__'\n",
      " * Debug mode: off\n"
     ]
    },
    {
     "name": "stderr",
     "output_type": "stream",
     "text": [
      "\u001b[31m\u001b[1mWARNING: This is a development server. Do not use it in a production deployment. Use a production WSGI server instead.\u001b[0m\n",
      " * Running on all addresses (0.0.0.0)\n",
      " * Running on http://127.0.0.1:5000\n",
      " * Running on http://192.168.102.248:5000\n",
      "\u001b[33mPress CTRL+C to quit\u001b[0m\n"
     ]
    }
   ],
   "source": [
    "from flask import Flask, request, jsonify\n",
    "from transformers import AutoTokenizer, AutoModelForSeq2SeqLM\n",
    "import torch\n",
    "\n",
    "# Initialize Flask app\n",
    "app = Flask(__name__)\n",
    "\n",
    "# Device config\n",
    "device = torch.device(\"cuda\" if torch.cuda.is_available() else \"cpu\")\n",
    "print(f\"Using device: {device}\")\n",
    "\n",
    "# Load model & tokenizer\n",
    "model_name = \"facebook/nllb-200-distilled-1.3B\"\n",
    "tokenizer = AutoTokenizer.from_pretrained(model_name)\n",
    "model = AutoModelForSeq2SeqLM.from_pretrained(model_name).to(device)\n",
    "\n",
    "# Language codes\n",
    "LANG_CODES = {\n",
    "    \"english\": \"eng_Latn\",\n",
    "    \"mongolian\": \"khk_Cyrl\",\n",
    "}\n",
    "\n",
    "# Translation logic\n",
    "def translate_text(text, source_lang, target_lang):\n",
    "    inputs = tokenizer(text, return_tensors=\"pt\", padding=True)\n",
    "    inputs = {k: v.to(device) for k, v in inputs.items()}\n",
    "    target_lang_id = tokenizer.convert_tokens_to_ids(target_lang)\n",
    "\n",
    "    with torch.no_grad():\n",
    "        outputs = model.generate(\n",
    "            **inputs,\n",
    "            forced_bos_token_id=target_lang_id,\n",
    "            max_length=512,\n",
    "            num_beams=5,\n",
    "            early_stopping=True,\n",
    "            do_sample=False,\n",
    "            temperature=1.0,\n",
    "        )\n",
    "\n",
    "    return tokenizer.batch_decode(outputs, skip_special_tokens=True)[0]\n",
    "\n",
    "# Endpoint: English → Mongolian\n",
    "@app.route('/en2mon', methods=['POST'])\n",
    "def en_to_mon():\n",
    "    data = request.get_json()\n",
    "    if not data or 'text' not in data:\n",
    "        return jsonify({\"error\": \"Missing 'text' field\"}), 400\n",
    "\n",
    "    translated = translate_text(data['text'], LANG_CODES[\"english\"], LANG_CODES[\"mongolian\"])\n",
    "    return jsonify({\"translation\": translated})\n",
    "\n",
    "# Endpoint: Mongolian → English\n",
    "@app.route('/mon2en', methods=['POST'])\n",
    "def mon_to_en():\n",
    "    data = request.get_json()\n",
    "    if not data or 'text' not in data:\n",
    "        return jsonify({\"error\": \"Missing 'text' field\"}), 400\n",
    "\n",
    "    translated = translate_text(data['text'], LANG_CODES[\"mongolian\"], LANG_CODES[\"english\"])\n",
    "    return jsonify({\"translation\": translated})\n",
    "\n",
    "# Run the app\n",
    "if __name__ == '__main__':\n",
    "    app.run(host='0.0.0.0', port=5000)\n"
   ]
  },
  {
   "cell_type": "code",
   "execution_count": null,
   "id": "daf4e37a-5709-404e-9f0f-d20ee6ab4a0b",
   "metadata": {},
   "outputs": [],
   "source": []
  }
 ],
 "metadata": {
  "kernelspec": {
   "display_name": "Python 3 (ipykernel)",
   "language": "python",
   "name": "python3"
  },
  "language_info": {
   "codemirror_mode": {
    "name": "ipython",
    "version": 3
   },
   "file_extension": ".py",
   "mimetype": "text/x-python",
   "name": "python",
   "nbconvert_exporter": "python",
   "pygments_lexer": "ipython3",
   "version": "3.11.13"
  }
 },
 "nbformat": 4,
 "nbformat_minor": 5
}

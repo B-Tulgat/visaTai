{
 "cells": [
  {
   "cell_type": "code",
   "execution_count": 2,
   "id": "53d87f77-086b-4c69-8c96-9ad0825d3ef3",
   "metadata": {},
   "outputs": [
    {
     "name": "stdout",
     "output_type": "stream",
     "text": [
      "Immigration_Rules_Scraper.ipynb  PDF2TXT.ipynb\tireland-immigration\n"
     ]
    }
   ],
   "source": [
    "!ls"
   ]
  },
  {
   "cell_type": "code",
   "execution_count": 3,
   "id": "2323a9dd-bac4-46b7-bb98-7b6472aca029",
   "metadata": {},
   "outputs": [
    {
     "name": "stdout",
     "output_type": "stream",
     "text": [
      "Extracted text from PDF: ./ireland-immigration/pps_number/IRP/static/documents/application_form_pps_number_for_a_child_under_18_reg1m.pdf\n",
      "Extracted text from PDF: ./ireland-immigration/pps_number/IRP/static/documents/application_form_pps_number_reg1.pdf\n",
      "Extracted text from PDF: ./ireland-immigration/pps_number/IRP/static/documents/pps_number_questionnaire.pdf\n",
      "Extracted text from PDF: ./ireland-immigration/pps_number/IRP/static/documents/pps_number_third_party_consent_form.pdf\n",
      "Extracted text from PDF: ./ireland-immigration/residency_permit/IRP/wp_content/uploads/2022/01/Policy_for_5_year_workers_and_redundant_workers.pdf\n",
      "Extracted text from PDF: ./ireland-immigration/residency_permit/IRP/wp_content/uploads/2021/04/policy_document_brexit_scheme_non_eea_family_british_citizens_seeking_immigration_permission.pdf\n",
      "Extracted text from PDF: ./ireland-immigration/residency_permit/IRP/wp_content/uploads/2021/05/web_notice.pdf\n",
      "Extracted text from PDF: ./ireland-immigration/wp_content/uploads/2023/02/Irish_Short_Stay_Visa_Waiver_Programme_February_2023.pdf\n",
      "Extracted text from PDF: ./ireland-immigration/wp_content/uploads/2023/09/Student_Application_Form_Sep_23.pdf\n",
      "Extracted text from PDF: ./ireland-immigration/wp_content/uploads/2023/06/Visa_Waiver_for_non_EEA_and_EU_School_Students_v2.pdf\n",
      "Extracted text from PDF: ./ireland-immigration/wp_content/uploads/2025/04/HE_Prog_Criteria_21_March_2025.pdf\n",
      "Extracted text from PDF: ./ireland-immigration/wp_content/uploads/2025/04/Foundation_Criteria_21_March_2025.pdf\n",
      "Extracted text from PDF: ./ireland-immigration/wp_content/uploads/2025/04/EL_Prog_Criteria_21_March_2025.pdf\n",
      "Extracted text from PDF: ./ireland-immigration/wp_content/uploads/2025/03/European_Council_Decision_94_795_JHA.pdf\n",
      "Extracted text from PDF: ./ireland-immigration/wp_content/uploads/2021/03/Additional_Documents_Short_Stay_C_Visa.pdf\n",
      "Extracted text from PDF: ./ireland-immigration/wp_content/uploads/2021/03/Required_documents_Short_Stay_C_Visa._faq.pdf\n",
      "Extracted text from PDF: ./ireland-immigration/wp_content/uploads/2024/12/Guidelines_for_Degree_Programme_Students_January_2011.pdf\n",
      "Extracted text from PDF: ./ireland-immigration/education/Griffith/sites/default/files/2024_06/b.a_hons_psychology_prospectus_v4.2_27062024.pdf\n",
      "Extracted text from PDF: ./ireland-immigration/education/Griffith/sites/default/files/2025_02/non_eu_quick_programme_guide_v21.3_24022025_clickable.pdf\n",
      "Performing OCR on image-based PDF: ./ireland-immigration/education/Griffith/sites/default/files/2025_02/griffith_college_safety_statement.pdf\n",
      "Extracted text from PDF: ./ireland-immigration/education/Griffith/sites/default/files/2023_06/mscmdtb_brochure_forview_v4.pdf\n",
      "Extracted text from PDF: ./ireland-immigration/education/Griffith/sites/default/files/2023_03/foundation_27022023_print_compressed.pdf\n",
      "Extracted text from PDF: ./ireland-immigration/education/Griffith/sites/default/files/2023_03/bschonscs_14102022_compressed.pdf\n",
      "Extracted text from PDF: ./ireland-immigration/education/Griffith/sites/default/files/2024_02/addiction_recovery_programmes_v3_19022024.pdf\n",
      "Extracted text from PDF: ./ireland-immigration/education/Griffith/sites/default/files/2024_02/childhood_adolescence_programmes_v4_16022024.pdf\n",
      "Extracted text from PDF: ./ireland-immigration/education/Griffith/sites/default/files/2024_02/psychology_behavioural_science_programmes_v4_16022024.pdf\n",
      "Extracted text from PDF: ./ireland-immigration/education/Griffith/sites/default/files/2025_06/eu_quick_programme_guide_v18_09062025_clickable.pdf\n",
      "Extracted text from PDF: ./ireland-immigration/education/Griffith/sites/default/files/2025_06/non_eu_quick_programme_guide_v22.1_10062025_clickable.pdf\n",
      "Extracted text from PDF: ./ireland-immigration/education/Griffith/sites/default/files/2023_05/mba_14122022_compressed.pdf\n",
      "Extracted text from PDF: ./ireland-immigration/education/Griffith/sites/default/files/2023_05/mscpbt_compressed_v2.pdf\n",
      "Extracted text from PDF: ./ireland-immigration/education/Griffith/sites/default/files/2023_05/llb_12082022_compressed_v3.pdf\n",
      "Extracted text from PDF: ./ireland-immigration/education/Griffith/sites/default/files/2023_05/graphic_designer_v2.pdf\n",
      "Extracted text from PDF: ./ireland-immigration/education/Griffith/sites/default/files/2023_05/mscpbm_compressed_v2.pdf\n",
      "Extracted text from PDF: ./ireland-immigration/education/Griffith/sites/default/files/2023_05/mscdt_brochure_v3_forview.pdf\n",
      "Extracted text from PDF: ./ireland-immigration/education/Griffith/sites/default/files/2024_12/fee_information_pack.pdf\n",
      "Extracted text from PDF: ./ireland-immigration/education/Griffith/api/storage/gcs/pdf/qrfyprod/aa06421e_dd97_4aa7_add5_1f080eeb4ac9.pdf\n",
      "Extracted text from PDF: ./ireland-immigration/education/Griffith/api/storage/gcs/pdf/qrfyprod/30ba5f34_d5eb_4dee_b47c_4b2b3978c806.pdf\n",
      "Extracted text from PDF: ./ireland-immigration/education/Griffith/api/storage/gcs/pdf/qrfyprod/047a191d_f26f_4593_ace2_50b70c6c06be.pdf\n",
      "Extracted text from PDF: ./ireland-immigration/education/Griffith/api/storage/gcs/pdf/qrfyprod/92a335c5_d74b_4646_93c7_38c7f0dbe286.pdf\n",
      "Extracted text from PDF: ./ireland-immigration/education/Erin/wp_content/uploads/2023/09/Student_Handbook.pdf\n",
      "Extracted text from PDF: ./ireland-immigration/education/Erin/wp_content/uploads/2023/10/Privacy_Policy.pdf\n",
      "Extracted text from PDF: ./ireland-immigration/education/Erin/wp_content/uploads/2023/08/Student_Handbook.pdf\n",
      "Extracted text from PDF: ./ireland-immigration/education/Erin/wp_content/uploads/2025/02/ORIGINAL_Terms_and_Condition_Dublin_and_Cork_feb.2025_Google_Docs_1.pdf\n",
      "Extracted text from PDF: ./ireland-immigration/education/Erin/wp_content/uploads/2024/05/2024_Student_Complaints_Policy_and_Procedure.pdf\n",
      "Extracted text from PDF: ./ireland-immigration/education/Ibat/wp_content/uploads/2025/03/IBAT_College_1st_Visa_2025_Fees_LATAM_EU_BRAZIL_MENA_FAR_EAST_ASIA_2.pdf\n",
      "Extracted text from PDF: ./ireland-immigration/education/Ibat/wp_content/uploads/2024/11/v4_IBAT_077_Brochure_English_Language_Factsheet.pdf\n",
      "Extracted text from PDF: ./ireland-immigration/education/TCU/Junior_Dean/assets/foodanddrink_regulations.pdf\n",
      "Extracted text from PDF: ./ireland-immigration/education/TCU/wp_content/uploads/2019/08/Indonesia_Guide_Why_study_a_PhD_in_Ireland_Tips_for_Indonesian_Students_v4.pdf\n",
      "Extracted text from PDF: ./ireland-immigration/education/TCU/study/assets/PDF/A_For_A_Research_PhD_Web_26_09_19.pdf\n",
      "Extracted text from PDF: ./ireland-immigration/education/TCU/study/assets/PDF/indolecturer.pdf\n",
      "Extracted text from PDF: ./ireland-immigration/education/TCU/study/assets/PDF/santri.pdf\n",
      "Extracted text from PDF: ./ireland-immigration/education/TCU/study/assets/PDF/targetedgroup.pdf\n",
      "Extracted text from PDF: ./ireland-immigration/education/TCU/study/assets/PDF/WelcometoTrinity2024.pdf\n",
      "Extracted text from PDF: ./ireland-immigration/education/TCU/study/assets/PDF/affirmationprog.pdf\n",
      "Extracted text from PDF: ./ireland-immigration/education/TCU/study/assets/PDF/CSC_Guidance_Document_for_Student_Applicants_Dec_2024.pdf\n",
      "Extracted text from PDF: ./ireland-immigration/education/TCU/study/assets/PDF/CSC_Guidance_Document_for_Schools_Dec_2024.pdf\n",
      "Extracted text from PDF: ./ireland-immigration/education/TCU/assets/pdf/visiting/smartstartbrochure.pdf\n",
      "Extracted text from PDF: ./ireland-immigration/education/UCC/en/media/studyatucc/international/V4NorthAmericanBrochureMCDIGITAL.pdf\n",
      "Extracted text from PDF: ./ireland-immigration/education/UCC/en/media/studyatucc/international/documentation/UniversityCollegeCorkFactSheet2024_2025(1).pdf\n",
      "Extracted text from PDF: ./ireland-immigration/education/UCC/en/media/studyatucc/international/documentation/postgraduatenon_eustudents/pdfs/UCCApprovedAgentListing10122020.pdf\n",
      "Extracted text from PDF: ./ireland-immigration/education/UCC/en/media/studyatucc/international/documentation/undergraduatenon_eustudents/UCCUndergraduateBands2025_2026.pdf\n",
      "Extracted text from PDF: ./ireland-immigration/education/UCC/en/media/studyatucc/international/documentation/undergraduatenon_eustudents/UGMinimumIBPoints2025_2026WebsiteVersion.pdf\n",
      "Extracted text from PDF: ./ireland-immigration/education/UCC/en/media/studyatucc/international/documentation/undergraduatenon_eustudents/UGMinimumALevelsGrades2025_2026WebsiteVersion.pdf\n",
      "Extracted text from PDF: ./ireland-immigration/education/UCC/en/media/studyatucc/international/documentation/incomingerasmusstudents/EstimatedCostofLivinginCork2023.pdf\n",
      "Extracted text from PDF: ./ireland-immigration/education/UCC/en/media/studyatucc/international/documentation/visitingusandnon_eustudents/UCCAcademicTranscriptInformation.pdf\n",
      "Extracted text from PDF: ./ireland-immigration/education/UCC/en/media/studyatucc/international/documentation/visitingusandnon_eustudents/FinalExaminationResults.pdf\n",
      "Extracted text from PDF: ./ireland-immigration/education/UCC/en/media/studyatucc/international/documentation/visitingusandnon_eustudents/Onlineenrolmentandmoduleregistration.pdf\n",
      "Extracted text from PDF: ./ireland-immigration/education/UCC/en/media/studyatucc/international/documentation/visitingusandnon_eustudents/VisitingStudentFactSheet(1).pdf\n",
      "Extracted text from PDF: ./ireland-immigration/education/UCC/CPAIreland/media/Business_Development/College_Exemptions_3.pdf\n"
     ]
    }
   ],
   "source": [
    "import os\n",
    "import pytesseract\n",
    "from pdf2image import convert_from_path\n",
    "import fitz  # PyMuPDF\n",
    "\n",
    "def extract_text_from_pdf(pdf_path):\n",
    "    doc = fitz.open(pdf_path)\n",
    "    text = \"\"\n",
    "    for page in doc:\n",
    "        text += page.get_text()\n",
    "    doc.close()\n",
    "    return text.strip()\n",
    "\n",
    "def ocr_pdf(pdf_path):\n",
    "    images = convert_from_path(pdf_path)\n",
    "    text = \"\"\n",
    "    for image in images:\n",
    "        text += pytesseract.image_to_string(image)\n",
    "    return text.strip()\n",
    "\n",
    "def process_pdf(pdf_path, txt_path):\n",
    "    text = extract_text_from_pdf(pdf_path)\n",
    "    if not text:\n",
    "        print(f\"Performing OCR on image-based PDF: {pdf_path}\")\n",
    "        text = ocr_pdf(pdf_path)\n",
    "    else:\n",
    "        print(f\"Extracted text from PDF: {pdf_path}\")\n",
    "    \n",
    "    with open(txt_path, 'w', encoding='utf-8') as f:\n",
    "        f.write(text)\n",
    "\n",
    "def process_directory(root_dir):\n",
    "    for dirpath, _, filenames in os.walk(root_dir):\n",
    "        for filename in filenames:\n",
    "            if filename.lower().endswith('.pdf'):\n",
    "                pdf_path = os.path.join(dirpath, filename)\n",
    "                txt_path = os.path.splitext(pdf_path)[0] + '.txt'\n",
    "                if not os.path.exists(txt_path):\n",
    "                    process_pdf(pdf_path, txt_path)\n",
    "\n",
    "\n",
    "process_directory(\"./ireland-immigration/\")\n"
   ]
  },
  {
   "cell_type": "code",
   "execution_count": null,
   "id": "9ff91ab7-3d69-4f4d-8bb9-b449b1796d8a",
   "metadata": {},
   "outputs": [],
   "source": []
  }
 ],
 "metadata": {
  "kernelspec": {
   "display_name": "Python 3 (ipykernel)",
   "language": "python",
   "name": "python3"
  },
  "language_info": {
   "codemirror_mode": {
    "name": "ipython",
    "version": 3
   },
   "file_extension": ".py",
   "mimetype": "text/x-python",
   "name": "python",
   "nbconvert_exporter": "python",
   "pygments_lexer": "ipython3",
   "version": "3.10.12"
  }
 },
 "nbformat": 4,
 "nbformat_minor": 5
}

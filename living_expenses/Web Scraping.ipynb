{
 "cells": [
  {
   "cell_type": "code",
   "execution_count": 9,
   "id": "5d5d527d-2820-41f5-be49-fb99c13428c9",
   "metadata": {},
   "outputs": [
    {
     "name": "stdout",
     "output_type": "stream",
     "text": [
      "HTT  Untitled.ipynb  chromedriver-linux64  chromedriver-linux64.zip\n"
     ]
    }
   ],
   "source": [
    "!ls"
   ]
  },
  {
   "cell_type": "code",
   "execution_count": 13,
   "id": "fc0e9796-b0dd-4cb2-9995-c4cbfb4aedc5",
   "metadata": {},
   "outputs": [
    {
     "name": "stdout",
     "output_type": "stream",
     "text": [
      "./chromedriver-linux64/chromedriver-linux64/chromedriver\n"
     ]
    }
   ],
   "source": [
    "!ls ./chromedriver-linux64/chromedriver-linux64/chromedriver"
   ]
  },
  {
   "cell_type": "code",
   "execution_count": null,
   "id": "e9ec1869-02f6-4aa2-933f-1dbe2aed5403",
   "metadata": {},
   "outputs": [],
   "source": [
    "!wget https://dl.google.com/linux/direct/google-chrome-stable_current_amd64.deb\n",
    "!sudo apt install ./google-chrome-stable_current_amd64.deb\n",
    "!google-chrome --version"
   ]
  },
  {
   "cell_type": "code",
   "execution_count": null,
   "id": "cec51d6c-97eb-4b93-b7ff-59d114ccc1f9",
   "metadata": {},
   "outputs": [],
   "source": [
    "!pip install lxml\n",
    "!sudo apt install libxml2-dev libxslt1-dev python3-dev"
   ]
  },
  {
   "cell_type": "code",
   "execution_count": 21,
   "id": "cf6f001f-ccf1-459f-8e1c-8c1be13b4786",
   "metadata": {},
   "outputs": [
    {
     "name": "stdout",
     "output_type": "stream",
     "text": [
      "Defaulting to user installation because normal site-packages is not writeable\n",
      "Requirement already satisfied: pyarrow in /home/amon/.local/lib/python3.10/site-packages (20.0.0)\n",
      "Collecting pyspark\n",
      "  Downloading pyspark-4.0.0.tar.gz (434.1 MB)\n",
      "\u001b[2K     \u001b[90m━━━━━━━━━━━━━━━━━━━━━━━━━━━━━━━━━━━━━━━\u001b[0m \u001b[32m434.1/434.1 MB\u001b[0m \u001b[31m2.7 MB/s\u001b[0m eta \u001b[36m0:00:00\u001b[0m00:01\u001b[0m00:02\u001b[0m\n",
      "  Preparing metadata (setup.py) ... \u001b[?25ldone\n",
      "\u001b[?25hCollecting py4j==0.10.9.9\n",
      "  Downloading py4j-0.10.9.9-py2.py3-none-any.whl (203 kB)\n",
      "\u001b[2K     \u001b[90m━━━━━━━━━━━━━━━━━━━━━━━━━━━━━━━━━━━━━━━\u001b[0m \u001b[32m203.0/203.0 KB\u001b[0m \u001b[31m7.8 MB/s\u001b[0m eta \u001b[36m0:00:00\u001b[0m\n",
      "\u001b[?25hBuilding wheels for collected packages: pyspark\n",
      "done\n",
      "\u001b[?25h  Created wheel for pyspark: filename=pyspark-4.0.0-py2.py3-none-any.whl size=434741258 sha256=3f7ada909c80119b70140de3167499df8ad9b16d18550f5505c425ef6b33e50e\n",
      "  Stored in directory: /home/amon/.cache/pip/wheels/62/69/eb/eef3014e40bbcff88f1d6dd762baebf6bf5d0266ba57be1ef8\n",
      "Successfully built pyspark\n",
      "Installing collected packages: py4j, pyspark\n",
      "Successfully installed py4j-0.10.9.9 pyspark-4.0.0\n"
     ]
    }
   ],
   "source": [
    "!pip install pyarrow pyspark"
   ]
  },
  {
   "cell_type": "code",
   "execution_count": 22,
   "id": "129336dc-e892-4300-958d-a3501127b794",
   "metadata": {},
   "outputs": [
    {
     "name": "stdout",
     "output_type": "stream",
     "text": [
      "      Results Monthly Weekly\n",
      "0  Net Income  €3,217   €742\n",
      "1    Expenses  €1,902   €439\n",
      "2     Savings  €1,314   €303\n"
     ]
    }
   ],
   "source": [
    "from selenium import webdriver\n",
    "from selenium.webdriver.chrome.service import Service\n",
    "from selenium.webdriver.common.by import By\n",
    "import pandas as pd\n",
    "import time\n",
    "\n",
    "# Setup\n",
    "service = Service('./chromedriver-linux64/chromedriver-linux64/chromedriver') \n",
    "options = webdriver.ChromeOptions()\n",
    "options.add_argument('--headless')\n",
    "driver = webdriver.Chrome(service=service, options=options)\n",
    "\n",
    "def scrape_cost_of_living_table(url):\n",
    "    driver.get(url)\n",
    "    time.sleep(3)  # Wait for JS to load table, adjust if needed\n",
    "\n",
    "    # Find all tables (each section is a separate table)\n",
    "    tables = driver.find_elements(By.TAG_NAME, 'table')\n",
    "    dataframes = []\n",
    "\n",
    "    for table in tables:\n",
    "        html = table.get_attribute('outerHTML')\n",
    "        df = pd.read_html(html)[0]\n",
    "        dataframes.append(df)\n",
    "\n",
    "    return dataframes\n",
    "\n",
    "# URLs\n",
    "cork_url = \"https://salaryaftertax.com/cost-of-living-calculator/ireland/cork\"\n",
    "dublin_url = \"https://salaryaftertax.com/cost-of-living-calculator/ireland/dublin\"\n",
    "\n",
    "cork_tables = scrape_cost_of_living_table(cork_url)\n",
    "dublin_tables = scrape_cost_of_living_table(dublin_url)\n",
    "\n",
    "driver.quit()\n",
    "\n",
    "# Example: show first table from Cork\n",
    "print(cork_tables[0])\n"
   ]
  },
  {
   "cell_type": "code",
   "execution_count": 2,
   "id": "68a713e0-9c90-4dc4-80f8-1064037cb67e",
   "metadata": {},
   "outputs": [
    {
     "data": {
      "text/plain": [
       "[      Results Monthly Weekly\n",
       " 0  Net Income  €3,217   €742\n",
       " 1    Expenses  €1,902   €439\n",
       " 2     Savings  €1,314   €303,\n",
       "        Unnamed: 0   Yearly Monthly Weekly\n",
       " 0      Net Income  €38,599  €3,217   €742\n",
       " 1  Expenses (59%)  €22,828  €1,902   €439\n",
       " 2    Rent (1-bed)  €15,192  €1,266   €292\n",
       " 3       Utilities   €2,920    €243    €56\n",
       " 4       Groceries   €3,900    €325    €75\n",
       " 5       Transport     €816     €68    €16\n",
       " 6   Savings (41%)  €15,771  €1,314   €303,\n",
       "   Apartment Type (Cork City) Average Monthly Rent\n",
       " 0                  3-Bedroom               €1,893\n",
       " 1                  2-Bedroom               €1,532\n",
       " 2                  1-Bedroom               €1,266\n",
       " 3           Shared Apartment                 €631,\n",
       "                             Expense Average Monthly Cost\n",
       " 0  Utilities  (1-bedroom apartment)            1 ×  €150\n",
       " 1                          Internet             1 ×  €55\n",
       " 2                        TV Licence          1 ×  €13.33\n",
       " 3                        Phone Plan             1 ×  €25,\n",
       "                                         Item Average Price\n",
       " 0                              Loaf of Bread         €1.91\n",
       " 1                             12 Medium Eggs         €2.80\n",
       " 2                         1 L (1 qt) of Milk         €1.15\n",
       " 3                1 kg (2.2 lb) of White Rice         €1.50\n",
       " 4              1 kg (2.2 lb) of Local Cheese         €7.22\n",
       " 5             1 kg (2.2 lb) of Whole Chicken         €3.75\n",
       " 6                    1 kg (2.2 lb) of Apples         €1.85\n",
       " 7  750 ml (25.3 oz) Bottle of Mid-Range Wine        €12.00\n",
       " 8         500 ml (16.9 oz) Can of Local Beer         €2.00,\n",
       "                           Ticket Type   Price\n",
       " 0  Single Ride, Adult (0 - 11 stages)   €1.35\n",
       " 1     Single Ride, Adult (12+ stages)   €1.55\n",
       " 2              Cork Red Zone, 24 Hour   €4.60\n",
       " 3                Cork Red Zone, 7 Day  €18.60\n",
       " 4              Cork Red Zone, 1 Month  €68.00,\n",
       "                                         Activity Average Price\n",
       " 0  Meal in a Mid-Range Restaurant (Excl. Drinks)     €20 – €40\n",
       " 1                     Big Mac Meal at McDonald's         €8.80\n",
       " 2                             Pint of Local Beer            €5\n",
       " 3                                  Cinema Ticket           €12\n",
       " 4                         Monthly Gym Membership           €35]"
      ]
     },
     "execution_count": 2,
     "metadata": {},
     "output_type": "execute_result"
    }
   ],
   "source": [
    "cork_tables"
   ]
  },
  {
   "cell_type": "code",
   "execution_count": 11,
   "id": "a0c63a04-3a9d-4a54-bdaa-7e1d734b5498",
   "metadata": {},
   "outputs": [],
   "source": [
    "import pickle\n",
    "\n",
    "with open('cork_tables.pkl', 'wb') as f:\n",
    "    pickle.dump(cork_tables, f)\n",
    "\n",
    "with open('dublin_tables.pkl', 'wb') as f:\n",
    "    pickle.dump(dublin_tables, f)"
   ]
  },
  {
   "cell_type": "code",
   "execution_count": 14,
   "id": "ddee95e5-e9e3-4172-97fa-61977885f8d4",
   "metadata": {},
   "outputs": [],
   "source": [
    "import pyarrow as pa\n",
    "import pyarrow.parquet as pq\n",
    "import os\n",
    "\n",
    "os.makedirs(\"data/cork\", exist_ok=True)\n",
    "os.makedirs(\"data/dublin\", exist_ok=True)\n",
    "\n",
    "# Save each table as its own Parquet file\n",
    "for i, df in enumerate(cork_tables):\n",
    "    table = pa.Table.from_pandas(df)\n",
    "    pq.write_table(table, f\"data/cork/table_{i}.parquet\")\n",
    "\n",
    "for i, df in enumerate(dublin_tables):\n",
    "    table = pa.Table.from_pandas(df)\n",
    "    pq.write_table(table, f\"data/dublin/table_{i}.parquet\")"
   ]
  },
  {
   "cell_type": "code",
   "execution_count": 18,
   "id": "c4fe0350-56a5-4ad6-b7ba-e2ba0480b29d",
   "metadata": {},
   "outputs": [
    {
     "name": "stdout",
     "output_type": "stream",
     "text": [
      "table_0.parquet  table_2.parquet  table_4.parquet  table_6.parquet\n",
      "table_1.parquet  table_3.parquet  table_5.parquet\n"
     ]
    }
   ],
   "source": [
    "!ls data/cork"
   ]
  },
  {
   "cell_type": "code",
   "execution_count": 29,
   "id": "4915ee01-27a2-4b7f-a93e-0b0fbef455cc",
   "metadata": {},
   "outputs": [
    {
     "name": "stderr",
     "output_type": "stream",
     "text": [
      "WARNING: Using incubator modules: jdk.incubator.vector\n",
      "Using Spark's default log4j profile: org/apache/spark/log4j2-defaults.properties\n",
      "25/06/10 16:43:06 WARN Utils: Your hostname, LAPTOP-J76M3340, resolves to a loopback address: 127.0.1.1; using 10.255.255.254 instead (on interface lo)\n",
      "25/06/10 16:43:06 WARN Utils: Set SPARK_LOCAL_IP if you need to bind to another address\n",
      "Using Spark's default log4j profile: org/apache/spark/log4j2-defaults.properties\n",
      "Setting default log level to \"WARN\".\n",
      "To adjust logging level use sc.setLogLevel(newLevel). For SparkR, use setLogLevel(newLevel).\n",
      "25/06/10 16:43:07 WARN NativeCodeLoader: Unable to load native-hadoop library for your platform... using builtin-java classes where applicable\n",
      "                                                                                "
     ]
    }
   ],
   "source": [
    "from pyspark.sql import SparkSession\n",
    "\n",
    "spark = SparkSession.builder.appName(\"CostOfLiving\").getOrCreate()\n",
    "\n",
    "df_cork = spark.read.parquet(\"data/cork\")"
   ]
  },
  {
   "cell_type": "code",
   "execution_count": 28,
   "id": "f99edd83-bc19-45e9-9952-9f8f7697b3c9",
   "metadata": {},
   "outputs": [
    {
     "name": "stdin",
     "output_type": "stream",
     "text": [
      "Log in manually, then press ENTER here... \n"
     ]
    }
   ],
   "source": [
    "from selenium import webdriver\n",
    "from selenium.webdriver.chrome.service import Service\n",
    "import time\n",
    "\n",
    "service = Service('./chromedriver-linux64/chromedriver-linux64/chromedriver')\n",
    "\n",
    "options = webdriver.ChromeOptions()\n",
    "# DO NOT use headless if you're logging in manually\n",
    "driver = webdriver.Chrome(service=service, options=options)\n",
    "\n",
    "# Go to Facebook login\n",
    "driver.get(\"https://www.facebook.com/login\")\n",
    "\n",
    "# Manually log in\n",
    "input(\"Log in manually, then press ENTER here...\")\n",
    "\n",
    "# Now go to Marketplace for electric bikes near Mongolia\n",
    "driver.get(\"https://www.facebook.com/marketplace/you/search/?query=electric%20bike\")\n",
    "\n",
    "# Wait for dynamic content to load\n",
    "time.sleep(5)  # can bump this up\n",
    "\n",
    "# Scroll down to load more items\n",
    "for _ in range(5):  # or more if needed\n",
    "    driver.execute_script(\"window.scrollTo(0, document.body.scrollHeight);\")\n",
    "    time.sleep(3)\n",
    "\n",
    "visible_text = driver.find_element(\"tag name\", \"body\").text\n",
    "\n",
    "with open(\"marketplace_visible_text.txt\", \"w\", encoding=\"utf-8\") as f:\n",
    "    f.write(visible_text)\n",
    "\n",
    "# Optional: screenshot\n",
    "driver.save_screenshot(\"marketplace_screenshot.png\")\n",
    "\n",
    "driver.quit()\n"
   ]
  },
  {
   "cell_type": "code",
   "execution_count": 26,
   "id": "d154a9ab-a997-43be-ad26-b9575a427895",
   "metadata": {},
   "outputs": [
    {
     "name": "stdout",
     "output_type": "stream",
     "text": [
      "Untitled.ipynb\t\t  cork_tables.pkl    marketplace_dump.html\n",
      "chromedriver-linux64\t  data\t\t     marketplace_screenshot.png\n",
      "chromedriver-linux64.zip  dublin_tables.pkl\n"
     ]
    }
   ],
   "source": [
    "!ls"
   ]
  }
 ],
 "metadata": {
  "kernelspec": {
   "display_name": "Python 3 (ipykernel)",
   "language": "python",
   "name": "python3"
  },
  "language_info": {
   "codemirror_mode": {
    "name": "ipython",
    "version": 3
   },
   "file_extension": ".py",
   "mimetype": "text/x-python",
   "name": "python",
   "nbconvert_exporter": "python",
   "pygments_lexer": "ipython3",
   "version": "3.10.12"
  }
 },
 "nbformat": 4,
 "nbformat_minor": 5
}

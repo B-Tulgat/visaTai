{
 "cells": [
  {
   "cell_type": "code",
   "execution_count": 6,
   "id": "a32cafc8-8f2c-4176-b3eb-f62b7b3aca78",
   "metadata": {},
   "outputs": [
    {
     "name": "stdout",
     "output_type": "stream",
     "text": [
      "Combine_Texts.ipynb  immigration_rules\tliving_expenses  vfs\n"
     ]
    }
   ],
   "source": [
    "!ls"
   ]
  },
  {
   "cell_type": "code",
   "execution_count": 7,
   "id": "8c14f227-2a77-4b43-902b-d79b8f53c88c",
   "metadata": {},
   "outputs": [],
   "source": [
    "!mkdir data"
   ]
  },
  {
   "cell_type": "code",
   "execution_count": 10,
   "id": "15b320cb-4073-46c9-90a7-e7cd44b1b8e1",
   "metadata": {},
   "outputs": [],
   "source": [
    "import os\n",
    "def merge_all_txt_files(base_dir, output_file):\n",
    "    with open(output_file, \"w\", encoding=\"utf-8\") as out_f:\n",
    "        for root, _, files in os.walk(base_dir):\n",
    "            for file in sorted(files):\n",
    "                if file.endswith(\".txt\"):\n",
    "                    file_path = os.path.join(root, file)\n",
    "                    with open(file_path, \"r\", encoding=\"utf-8\") as f:\n",
    "                        out_f.write(f\"\\n\\n=== {file_path} ===\\n\\n\")\n",
    "                        out_f.write(f.read())"
   ]
  },
  {
   "cell_type": "code",
   "execution_count": 11,
   "id": "df92a40b-5a53-4617-bda6-ae5e7bc6fb50",
   "metadata": {},
   "outputs": [],
   "source": [
    "merge_all_txt_files(\"./\", \"./data/data.txt\")"
   ]
  }
 ],
 "metadata": {
  "kernelspec": {
   "display_name": "Python 3 (ipykernel)",
   "language": "python",
   "name": "python3"
  },
  "language_info": {
   "codemirror_mode": {
    "name": "ipython",
    "version": 3
   },
   "file_extension": ".py",
   "mimetype": "text/x-python",
   "name": "python",
   "nbconvert_exporter": "python",
   "pygments_lexer": "ipython3",
   "version": "3.10.12"
  }
 },
 "nbformat": 4,
 "nbformat_minor": 5
}

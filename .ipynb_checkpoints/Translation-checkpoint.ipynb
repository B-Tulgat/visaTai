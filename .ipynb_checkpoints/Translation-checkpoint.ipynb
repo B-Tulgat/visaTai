{
 "cells": [
  {
   "cell_type": "code",
   "execution_count": null,
   "id": "2a9f3010-50db-4788-adf5-de79b4f8e7db",
   "metadata": {},
   "outputs": [],
   "source": [
    "from googletrans import Translator\n",
    "import os\n",
    "\n",
    "INPUT_FILE = './data/curated.txt'\n",
    "OUTPUT_FILE = './data/translated.txt'\n",
    "CHUNK_SIZE = 4900  # Keep it below 5000 to be safe\n",
    "\n",
    "def read_chunks(path, max_len=CHUNK_SIZE):\n",
    "    with open(path, 'r', encoding='utf-8') as f:\n",
    "        text = f.read()\n",
    "    chunks = []\n",
    "    while text:\n",
    "        chunk = text[:max_len]\n",
    "        last_period = chunk.rfind('.')\n",
    "        if last_period == -1 or len(text) <= max_len:\n",
    "            last_period = max_len\n",
    "        chunks.append(text[:last_period].strip())\n",
    "        text = text[last_period:].strip()\n",
    "    return chunks\n",
    "\n",
    "def main():\n",
    "    translator = Translator()\n",
    "    chunks = read_chunks(INPUT_FILE)\n",
    "    print(f\"Total chunks: {len(chunks)}\")\n",
    "\n",
    "    with open(OUTPUT_FILE, 'w', encoding='utf-8') as out:\n",
    "        for i, chunk in enumerate(chunks):\n",
    "            try:\n",
    "                result = translator.translate(chunk, src='en', dest='mn')\n",
    "                out.write(result.text + '\\n\\n')\n",
    "                print(f\"Translated chunk {i + 1}/{len(chunks)}\")\n",
    "            except Exception as e:\n",
    "                print(f\"Error on chunk {i + 1}: {e}\")\n",
    "                out.write('[TRANSLATION FAILED]\\n\\n')\n",
    "\n",
    "if __name__ == '__main__':\n",
    "    main()\n"
   ]
  }
 ],
 "metadata": {
  "kernelspec": {
   "display_name": "Python 3 (ipykernel)",
   "language": "python",
   "name": "python3"
  },
  "language_info": {
   "codemirror_mode": {
    "name": "ipython",
    "version": 3
   },
   "file_extension": ".py",
   "mimetype": "text/x-python",
   "name": "python",
   "nbconvert_exporter": "python",
   "pygments_lexer": "ipython3",
   "version": "3.10.12"
  }
 },
 "nbformat": 4,
 "nbformat_minor": 5
}

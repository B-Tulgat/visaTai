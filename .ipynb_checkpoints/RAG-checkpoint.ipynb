{
 "cells": [
  {
   "cell_type": "code",
   "execution_count": 3,
   "id": "fd90fac3-a537-4b31-870b-be7c217fad48",
   "metadata": {},
   "outputs": [
    {
     "name": "stdout",
     "output_type": "stream",
     "text": [
      "Collecting faiss-cpu\n",
      "  Downloading faiss_cpu-1.11.0-cp311-cp311-manylinux_2_28_x86_64.whl.metadata (4.8 kB)\n",
      "Collecting sentence-transformers\n",
      "  Downloading sentence_transformers-5.0.0-py3-none-any.whl.metadata (16 kB)\n",
      "Collecting ollama\n",
      "  Downloading ollama-0.5.1-py3-none-any.whl.metadata (4.3 kB)\n",
      "Requirement already satisfied: numpy<3.0,>=1.25.0 in /home/amon/yes/envs/torchcuda/lib/python3.11/site-packages (from faiss-cpu) (2.3.1)\n",
      "Requirement already satisfied: packaging in /home/amon/yes/envs/torchcuda/lib/python3.11/site-packages (from faiss-cpu) (24.2)\n",
      "Collecting transformers<5.0.0,>=4.41.0 (from sentence-transformers)\n",
      "  Downloading transformers-4.53.1-py3-none-any.whl.metadata (40 kB)\n",
      "Requirement already satisfied: tqdm in /home/amon/yes/envs/torchcuda/lib/python3.11/site-packages (from sentence-transformers) (4.67.1)\n",
      "Requirement already satisfied: torch>=1.11.0 in /home/amon/yes/envs/torchcuda/lib/python3.11/site-packages (from sentence-transformers) (2.7.1)\n",
      "Requirement already satisfied: scikit-learn in /home/amon/yes/envs/torchcuda/lib/python3.11/site-packages (from sentence-transformers) (1.7.0)\n",
      "Requirement already satisfied: scipy in /home/amon/yes/envs/torchcuda/lib/python3.11/site-packages (from sentence-transformers) (1.16.0)\n",
      "Requirement already satisfied: huggingface-hub>=0.20.0 in /home/amon/yes/envs/torchcuda/lib/python3.11/site-packages (from sentence-transformers) (0.33.1)\n",
      "Requirement already satisfied: Pillow in /home/amon/yes/envs/torchcuda/lib/python3.11/site-packages (from sentence-transformers) (11.3.0)\n",
      "Requirement already satisfied: typing_extensions>=4.5.0 in /home/amon/yes/envs/torchcuda/lib/python3.11/site-packages (from sentence-transformers) (4.14.0)\n",
      "Requirement already satisfied: filelock in /home/amon/yes/envs/torchcuda/lib/python3.11/site-packages (from transformers<5.0.0,>=4.41.0->sentence-transformers) (3.18.0)\n",
      "Requirement already satisfied: pyyaml>=5.1 in /home/amon/yes/envs/torchcuda/lib/python3.11/site-packages (from transformers<5.0.0,>=4.41.0->sentence-transformers) (6.0.2)\n",
      "Requirement already satisfied: regex!=2019.12.17 in /home/amon/yes/envs/torchcuda/lib/python3.11/site-packages (from transformers<5.0.0,>=4.41.0->sentence-transformers) (2024.11.6)\n",
      "Requirement already satisfied: requests in /home/amon/yes/envs/torchcuda/lib/python3.11/site-packages (from transformers<5.0.0,>=4.41.0->sentence-transformers) (2.32.4)\n",
      "Requirement already satisfied: tokenizers<0.22,>=0.21 in /home/amon/yes/envs/torchcuda/lib/python3.11/site-packages (from transformers<5.0.0,>=4.41.0->sentence-transformers) (0.21.2)\n",
      "Collecting safetensors>=0.4.3 (from transformers<5.0.0,>=4.41.0->sentence-transformers)\n",
      "  Downloading safetensors-0.5.3-cp38-abi3-manylinux_2_17_x86_64.manylinux2014_x86_64.whl.metadata (3.8 kB)\n",
      "Requirement already satisfied: fsspec>=2023.5.0 in /home/amon/yes/envs/torchcuda/lib/python3.11/site-packages (from huggingface-hub>=0.20.0->sentence-transformers) (2025.5.1)\n",
      "Requirement already satisfied: hf-xet<2.0.0,>=1.1.2 in /home/amon/yes/envs/torchcuda/lib/python3.11/site-packages (from huggingface-hub>=0.20.0->sentence-transformers) (1.1.5)\n",
      "Requirement already satisfied: httpx>=0.27 in /home/amon/yes/envs/torchcuda/lib/python3.11/site-packages (from ollama) (0.28.1)\n",
      "Requirement already satisfied: pydantic>=2.9 in /home/amon/yes/envs/torchcuda/lib/python3.11/site-packages (from ollama) (2.11.7)\n",
      "Requirement already satisfied: anyio in /home/amon/yes/envs/torchcuda/lib/python3.11/site-packages (from httpx>=0.27->ollama) (4.9.0)\n",
      "Requirement already satisfied: certifi in /home/amon/yes/envs/torchcuda/lib/python3.11/site-packages (from httpx>=0.27->ollama) (2025.6.15)\n",
      "Requirement already satisfied: httpcore==1.* in /home/amon/yes/envs/torchcuda/lib/python3.11/site-packages (from httpx>=0.27->ollama) (1.0.9)\n",
      "Requirement already satisfied: idna in /home/amon/yes/envs/torchcuda/lib/python3.11/site-packages (from httpx>=0.27->ollama) (3.10)\n",
      "Requirement already satisfied: h11>=0.16 in /home/amon/yes/envs/torchcuda/lib/python3.11/site-packages (from httpcore==1.*->httpx>=0.27->ollama) (0.16.0)\n",
      "Requirement already satisfied: annotated-types>=0.6.0 in /home/amon/yes/envs/torchcuda/lib/python3.11/site-packages (from pydantic>=2.9->ollama) (0.7.0)\n",
      "Requirement already satisfied: pydantic-core==2.33.2 in /home/amon/yes/envs/torchcuda/lib/python3.11/site-packages (from pydantic>=2.9->ollama) (2.33.2)\n",
      "Requirement already satisfied: typing-inspection>=0.4.0 in /home/amon/yes/envs/torchcuda/lib/python3.11/site-packages (from pydantic>=2.9->ollama) (0.4.1)\n",
      "Requirement already satisfied: sympy>=1.13.3 in /home/amon/yes/envs/torchcuda/lib/python3.11/site-packages (from torch>=1.11.0->sentence-transformers) (1.14.0)\n",
      "Requirement already satisfied: networkx in /home/amon/yes/envs/torchcuda/lib/python3.11/site-packages (from torch>=1.11.0->sentence-transformers) (3.5)\n",
      "Requirement already satisfied: jinja2 in /home/amon/yes/envs/torchcuda/lib/python3.11/site-packages (from torch>=1.11.0->sentence-transformers) (3.1.6)\n",
      "Requirement already satisfied: nvidia-cuda-nvrtc-cu12==12.6.77 in /home/amon/yes/envs/torchcuda/lib/python3.11/site-packages (from torch>=1.11.0->sentence-transformers) (12.6.77)\n",
      "Requirement already satisfied: nvidia-cuda-runtime-cu12==12.6.77 in /home/amon/yes/envs/torchcuda/lib/python3.11/site-packages (from torch>=1.11.0->sentence-transformers) (12.6.77)\n",
      "Requirement already satisfied: nvidia-cuda-cupti-cu12==12.6.80 in /home/amon/yes/envs/torchcuda/lib/python3.11/site-packages (from torch>=1.11.0->sentence-transformers) (12.6.80)\n",
      "Requirement already satisfied: nvidia-cudnn-cu12==9.5.1.17 in /home/amon/yes/envs/torchcuda/lib/python3.11/site-packages (from torch>=1.11.0->sentence-transformers) (9.5.1.17)\n",
      "Requirement already satisfied: nvidia-cublas-cu12==12.6.4.1 in /home/amon/yes/envs/torchcuda/lib/python3.11/site-packages (from torch>=1.11.0->sentence-transformers) (12.6.4.1)\n",
      "Requirement already satisfied: nvidia-cufft-cu12==11.3.0.4 in /home/amon/yes/envs/torchcuda/lib/python3.11/site-packages (from torch>=1.11.0->sentence-transformers) (11.3.0.4)\n",
      "Requirement already satisfied: nvidia-curand-cu12==10.3.7.77 in /home/amon/yes/envs/torchcuda/lib/python3.11/site-packages (from torch>=1.11.0->sentence-transformers) (10.3.7.77)\n",
      "Requirement already satisfied: nvidia-cusolver-cu12==11.7.1.2 in /home/amon/yes/envs/torchcuda/lib/python3.11/site-packages (from torch>=1.11.0->sentence-transformers) (11.7.1.2)\n",
      "Requirement already satisfied: nvidia-cusparse-cu12==12.5.4.2 in /home/amon/yes/envs/torchcuda/lib/python3.11/site-packages (from torch>=1.11.0->sentence-transformers) (12.5.4.2)\n",
      "Requirement already satisfied: nvidia-cusparselt-cu12==0.6.3 in /home/amon/yes/envs/torchcuda/lib/python3.11/site-packages (from torch>=1.11.0->sentence-transformers) (0.6.3)\n",
      "Requirement already satisfied: nvidia-nccl-cu12==2.26.2 in /home/amon/yes/envs/torchcuda/lib/python3.11/site-packages (from torch>=1.11.0->sentence-transformers) (2.26.2)\n",
      "Requirement already satisfied: nvidia-nvtx-cu12==12.6.77 in /home/amon/yes/envs/torchcuda/lib/python3.11/site-packages (from torch>=1.11.0->sentence-transformers) (12.6.77)\n",
      "Requirement already satisfied: nvidia-nvjitlink-cu12==12.6.85 in /home/amon/yes/envs/torchcuda/lib/python3.11/site-packages (from torch>=1.11.0->sentence-transformers) (12.6.85)\n",
      "Requirement already satisfied: nvidia-cufile-cu12==1.11.1.6 in /home/amon/yes/envs/torchcuda/lib/python3.11/site-packages (from torch>=1.11.0->sentence-transformers) (1.11.1.6)\n",
      "Requirement already satisfied: triton==3.3.1 in /home/amon/yes/envs/torchcuda/lib/python3.11/site-packages (from torch>=1.11.0->sentence-transformers) (3.3.1)\n",
      "Requirement already satisfied: setuptools>=40.8.0 in /home/amon/yes/envs/torchcuda/lib/python3.11/site-packages (from triton==3.3.1->torch>=1.11.0->sentence-transformers) (78.1.1)\n",
      "Requirement already satisfied: mpmath<1.4,>=1.1.0 in /home/amon/yes/envs/torchcuda/lib/python3.11/site-packages (from sympy>=1.13.3->torch>=1.11.0->sentence-transformers) (1.3.0)\n",
      "Requirement already satisfied: sniffio>=1.1 in /home/amon/yes/envs/torchcuda/lib/python3.11/site-packages (from anyio->httpx>=0.27->ollama) (1.3.1)\n",
      "Requirement already satisfied: MarkupSafe>=2.0 in /home/amon/yes/envs/torchcuda/lib/python3.11/site-packages (from jinja2->torch>=1.11.0->sentence-transformers) (3.0.2)\n",
      "Requirement already satisfied: charset_normalizer<4,>=2 in /home/amon/yes/envs/torchcuda/lib/python3.11/site-packages (from requests->transformers<5.0.0,>=4.41.0->sentence-transformers) (3.4.2)\n",
      "Requirement already satisfied: urllib3<3,>=1.21.1 in /home/amon/yes/envs/torchcuda/lib/python3.11/site-packages (from requests->transformers<5.0.0,>=4.41.0->sentence-transformers) (2.5.0)\n",
      "Requirement already satisfied: joblib>=1.2.0 in /home/amon/yes/envs/torchcuda/lib/python3.11/site-packages (from scikit-learn->sentence-transformers) (1.5.1)\n",
      "Requirement already satisfied: threadpoolctl>=3.1.0 in /home/amon/yes/envs/torchcuda/lib/python3.11/site-packages (from scikit-learn->sentence-transformers) (3.6.0)\n",
      "Downloading faiss_cpu-1.11.0-cp311-cp311-manylinux_2_28_x86_64.whl (31.3 MB)\n",
      "\u001b[2K   \u001b[90m━━━━━━━━━━━━━━━━━━━━━━━━━━━━━━━━━━━━━━━━\u001b[0m \u001b[32m31.3/31.3 MB\u001b[0m \u001b[31m2.4 MB/s\u001b[0m eta \u001b[36m0:00:00\u001b[0m00:01\u001b[0m00:01\u001b[0m\n",
      "\u001b[?25hDownloading sentence_transformers-5.0.0-py3-none-any.whl (470 kB)\n",
      "Downloading transformers-4.53.1-py3-none-any.whl (10.8 MB)\n",
      "\u001b[2K   \u001b[90m━━━━━━━━━━━━━━━━━━━━━━━━━━━━━━━━━━━━━━━━\u001b[0m \u001b[32m10.8/10.8 MB\u001b[0m \u001b[31m2.0 MB/s\u001b[0m eta \u001b[36m0:00:00\u001b[0ma \u001b[36m0:00:01\u001b[0m\n",
      "\u001b[?25hDownloading ollama-0.5.1-py3-none-any.whl (13 kB)\n",
      "Downloading safetensors-0.5.3-cp38-abi3-manylinux_2_17_x86_64.manylinux2014_x86_64.whl (471 kB)\n",
      "Installing collected packages: safetensors, faiss-cpu, ollama, transformers, sentence-transformers\n",
      "\u001b[2K   \u001b[90m━━━━━━━━━━━━━━━━━━━━━━━━━━━━━━━━━━━━━━━━\u001b[0m \u001b[32m5/5\u001b[0m [sentence-transformers]ence-transformers]\n",
      "\u001b[1A\u001b[2KSuccessfully installed faiss-cpu-1.11.0 ollama-0.5.1 safetensors-0.5.3 sentence-transformers-5.0.0 transformers-4.53.1\n"
     ]
    }
   ],
   "source": [
    "!pip install faiss-cpu sentence-transformers ollama"
   ]
  },
  {
   "cell_type": "code",
   "execution_count": 12,
   "id": "70948664-19a5-42f0-8d30-cc8fc8f641a5",
   "metadata": {},
   "outputs": [],
   "source": [
    "import faiss\n",
    "import numpy as np\n",
    "from sentence_transformers import SentenceTransformer\n",
    "import pickle\n",
    "import ollama\n",
    "\n",
    "# Load model\n",
    "model = SentenceTransformer('all-MiniLM-L6-v2')\n",
    "\n",
    "# Load and chunk documents\n",
    "with open('./data/curated.txt', 'r') as file:\n",
    "    text = file.read()\n",
    "\n",
    "documents = [d.strip() for d in text.split('\\n\\n') if d.strip()]\n",
    "\n",
    "# Encode embeddings\n",
    "doc_embeddings = model.encode(documents, convert_to_numpy=True)\n",
    "\n",
    "# Save raw docs and embeddings\n",
    "with open('documents.pkl', 'wb') as f:\n",
    "    pickle.dump(documents, f)\n",
    "np.save('doc_embeddings.npy', doc_embeddings)\n",
    "\n",
    "# Create and save FAISS index\n",
    "index = faiss.IndexFlatL2(doc_embeddings.shape[1])\n",
    "index.add(doc_embeddings)\n",
    "faiss.write_index(index, 'knowledge_index.faiss')"
   ]
  },
  {
   "cell_type": "code",
   "execution_count": 3,
   "id": "6b7c42e3-307e-46f9-a951-ef8f03adfb37",
   "metadata": {},
   "outputs": [],
   "source": [
    "import faiss\n",
    "import numpy as np\n",
    "from sentence_transformers import SentenceTransformer\n",
    "import pickle\n",
    "import ollama\n",
    "\n",
    "model = SentenceTransformer('all-MiniLM-L6-v2')\n",
    "\n",
    "def retrieve_similar_documents(query, top_k=5):\n",
    "    # Load index and data\n",
    "    index = faiss.read_index('knowledge_index.faiss')\n",
    "    documents = pickle.load(open('documents.pkl', 'rb'))\n",
    "\n",
    "    # Encode query\n",
    "    query_embedding = model.encode([query], convert_to_numpy=True)\n",
    "    \n",
    "    # Search\n",
    "    distances, indices = index.search(query_embedding, k=top_k)\n",
    "    return [documents[i] for i in indices[0]]\n"
   ]
  },
  {
   "cell_type": "code",
   "execution_count": 4,
   "id": "41e081ae-80b8-4fc5-9539-ec3ffc78935e",
   "metadata": {},
   "outputs": [
    {
     "data": {
      "text/plain": [
       "['Applicants must have studied Maths at second level or QQI FET or demonstrate involvement with Maths related areas. Further information on applying as a mature student is available on theMature ApplicantsandMature Student Entrysupport pages. Non-EU applicants are expected to have educational qualifications of a standard equivalent to the Irish Leaving Certificate. In addition, where such applicants are non-native speakers of the English language they must satisfy the university of their competency in the English language. To verify if you meet the minimum academic and language requirements visit ourqualification comparison pageand refer to ourInternational Office pagefor more information. ## Fees and Costs - Whether you are an EU or Non-EU student will affect the course fees applicable to you. See more information onEU Fees, Non-EU Fees, or Free Fees Status. - The State will pay the tuition fees for EU students who are eligible under the Free Fees Scheme.']"
      ]
     },
     "execution_count": 4,
     "metadata": {},
     "output_type": "execute_result"
    }
   ],
   "source": [
    "retrieve_similar_documents('Mongolian. How tuition fee is MSc in Ireland?', top_k=1)"
   ]
  },
  {
   "cell_type": "code",
   "execution_count": 1,
   "id": "755fe527-dff4-431c-839e-33d95b6f9e54",
   "metadata": {},
   "outputs": [],
   "source": [
    "import re\n",
    "import requests\n",
    "\n",
    "def translate_rag_response(text):\n",
    "    translated_parts = []\n",
    "\n",
    "    # Match code blocks: ```...```, non-greedy\n",
    "    blocks = re.split(r\"(```.*?```)\", text, flags=re.DOTALL)\n",
    "\n",
    "    for block in blocks:\n",
    "        if block.startswith(\"```\"):\n",
    "            # Code block: do not translate\n",
    "            translated_parts.append(block)\n",
    "        else:\n",
    "            # Non-code block: split by period\n",
    "            sentences = [s.strip() for s in block.split('.') if s.strip()]\n",
    "            translated_sentences = []\n",
    "\n",
    "            for sentence in sentences:\n",
    "                try:\n",
    "                    response = requests.post(\n",
    "                        \"http://localhost:5000/en2mon\",\n",
    "                        json={\"text\": sentence}\n",
    "                    )\n",
    "                    if response.status_code == 200:\n",
    "                        translated = response.json()[\"translation\"]\n",
    "                        translated_sentences.append(translated)\n",
    "                    else:\n",
    "                        print(f\"Translation failed: {response.text}\")\n",
    "                        translated_sentences.append(sentence)\n",
    "                except Exception as e:\n",
    "                    print(f\"Error translating: {e}\")\n",
    "                    translated_sentences.append(sentence)\n",
    "\n",
    "            # Rejoin translated sentences (adding period back)\n",
    "            translated_block = \". \".join(translated_sentences) + \".\"\n",
    "            translated_parts.append(translated_block)\n",
    "\n",
    "    # Return full translated text\n",
    "    return \"\\n\".join(translated_parts)\n"
   ]
  },
  {
   "cell_type": "code",
   "execution_count": 20,
   "id": "2d4d83b0-56b3-46ab-87da-d5ff3bb1ab3a",
   "metadata": {},
   "outputs": [],
   "source": [
    "def rag_pipeline(query):\n",
    "    docs = retrieve_similar_documents(query, top_k=20)\n",
    "    context = \"\\n\".join(docs)\n",
    "    \n",
    "    prompt = f\"\"\"The following are relevant documents:\\n{context}\\n\\nQuery: {query}\\nAnswer within 500 words.\\nAnswer:\"\"\"\n",
    "    \n",
    "    response = ollama.chat(model='llama3.2', messages=[\n",
    "        {'role': 'user', 'content': prompt}\n",
    "    ])\n",
    "    \n",
    "    return response['message']['content']\n"
   ]
  },
  {
   "cell_type": "code",
   "execution_count": 21,
   "id": "8d7ff70c-8a57-4b0e-942d-a943048684e0",
   "metadata": {},
   "outputs": [
    {
     "data": {
      "text/plain": [
       "\"Mongolians can study English language courses in Ireland through various institutions, including IBAT College Dublin. To apply for an English language course, you will need to submit your application online or in-person at the institution.\\n\\nThe cost of English language courses in Ireland varies depending on the institution and program. Here are some approximate costs:\\n\\n* General English courses:\\n\\t+ 1 week: €250-€350\\n\\t+ 1 month: €800-€1,200\\n* Intensive English courses (15 hours/week):\\n\\t+ 1 week: €220-€320\\n\\t+ 1 month: €600-€900\\n\\nIt's recommended to check the specific costs and requirements for each institution and program on their website or by contacting them directly.\\n\\nAs a non-EU citizen, you may also need to apply for a Study Visa to study in Ireland. The visa application process and cost will vary depending on your individual circumstances.\\n\\nTo get started, I recommend visiting the IBAT College Dublin website or contacting them directly to inquire about their English language courses and requirements. Additionally, you can check the Irish Naturalisation and Immigration Service (INIS) website for information on Study Visa applications and requirements.\""
      ]
     },
     "execution_count": 21,
     "metadata": {},
     "output_type": "execute_result"
    }
   ],
   "source": [
    "query = 'Mongolian: Language courses how to apply and how expensive they are in Ireland'\n",
    "rag_pipeline(query)"
   ]
  },
  {
   "cell_type": "code",
   "execution_count": 5,
   "id": "52da604d-0792-43fc-ba1d-297c9f4158ad",
   "metadata": {},
   "outputs": [
    {
     "data": {
      "text/plain": [
       "'Ирланд дахь монголчуудын хэлний сургалтын талаарх мэдээллийг олохын тулд би янз бүрийн эх сурвалжуудаас хайсан.. Энд юу олсон бэ: ** Ирландын хэлний сургалт** Дублинд олон улсын оюутнуудад зориулсан, тэр дундаа Монголын оюутнуудад зориулсан англи хэлний сургалт явуулдаг хэд хэдэн сургууль байдаг. Хамгийн түгээмэл сонголт нь: 1. **IBAT College Dublin**: Насанд хүрэгчид болон хүүхдүүдэд зориулсан англи хэлний сургалтын өргөн хүрээг санал болгож байна.. 2 .. **Гриффит коллеж**: Англи хэлний сургалт, бизнесийн англи хэлний сургалт, шалгалтын бэлтгэл сургалт зэрэг сургалт явуулдаг. 3 .. ** Дублины хотын их сургуулийн хэлний төв**: Англи хэлний сургалт, сертификатын хөтөлбөр, англи хэлний сургалтын зэрэг олгодог. Ирланд улсад хэлний сургалтанд хамрагдахын тулд дараахь алхамуудыг дагах хэрэгтэй: 1. ** Сургуулийн цахим хуудсыг шалгаарай**: Таны сонирхож буй хэлний сургууль, коллежийн цахим хуудсыг очиж, одоогийн сургалт, үнэ, хүсэлт гаргах шаардлагыг мэдээрэй.. 2 .. ** Шаардлагатай баримт бичгийг цуглуулаарай**: Та хэн болохыг баталгаажуулах, боловсрол эзэмших, англи хэлний мэдлэгтэй байх шаардлагатай байж болно (хэрэв хэрэгжиж байгаа бол). 3 .. ** Онлайнаар эсвэл бие даан хүсэлт гаргах**: Онлайнаар хүсэлтээ ирүүлнэ үү эсвэл сургуулийн оффист очиж үйл явцыг дуусгах уу. **Хэрэг** Ирландын хэлний сургалтын үнэ нь сургууль, сургалтын төрөл, хугацаанаас хамаарч өөр өөр байдаг.. * **ИБАТ Колледж Дублин**: + Ерөнхий англи хэлний курс (20 цаг / долоо хоног): цагийн 15-20 евро + Англи хэлний нарийвчилсан курс (30 цаг / долоо хоног): цагийн 25-35 евро * **Гриффит Колледж**: + Англи хэлний курс (10-20 цаг / долоо хоног): цагийн 18-25 евро + Бизнесийн англи хэлний курс: цагийн 25-35 евро * **Дублин хотын их сургуулийн хэлний төв**: + Англи хэлний курс (10-20 цаг / долоо хоног): цагийн 15-20 евро ** нэмэлт өртөг** Сургалтын төлбөрөөс гадна та дараах бусад зардлыг авч үзэх шаардлагатай байж болно: * ** Амьдралын зардал**:. * **Виз олгох төлбөр**: Шаардлагатай бол виз олгох төлбөрийг төлөх хэрэгтэй (одоогийн байдлаар 50-100 евро). **Ирландын зарим хэлний сургуулиуд гадаадын оюутнуудад тэтгэлэг, санхүүгийн тусламж санал болгодог. Сургуулийн амжилт, хэлний ур чадвар, бусад шалгуур дээр тулгуурласан байж болно. Жишээ нь: * **IBAT College Dublin**: Олон улсын оюутнуудад олон төрлийн тэтгэлэг олгодог. * **Гриффит Колледж**: Санхүүгийн хэрэгцээг илтгэсэн олон улсын оюутнуудад тэтгэлэг олгодог. ** Эцсийн дүгнэлт** Ирланд дахь өөрийн хэрэгцээ, төсөвт нийцсэн хэлний сургалтыг олохын тулд дээрх сонголтуудыг судалж, сургуулиудад шууд хандахыг зөвлөж байна. Нэмэлт зардал, тэтгэлэг, санхүүгийн туслалцааны талаар мэдэхийг хичээгээрэй. Нэр дэвшүүлэхэд амжилт хүсье!.'"
      ]
     },
     "execution_count": 5,
     "metadata": {},
     "output_type": "execute_result"
    }
   ],
   "source": [
    "def rag_pipeline(query):\n",
    "    docs = retrieve_similar_documents(query, top_k=20)\n",
    "    context = \"\\n\".join(docs)\n",
    "    \n",
    "    prompt = f\"\"\"The following are relevant documents:\\n{context}\\n\\nQuery: {query}\\nAnswer within 500 words.\\nAnswer:\"\"\"\n",
    "    \n",
    "    response = ollama.chat(model='llama3.2', messages=[\n",
    "        {'role': 'user', 'content': prompt}\n",
    "    ])\n",
    "    \n",
    "    english_answer = response['message']['content']\n",
    "    mongolian_answer = translate_rag_response(english_answer)\n",
    "    return mongolian_answer\n",
    "\n",
    "query = 'Mongolian: Language courses how to apply and how expensive they are in Ireland'\n",
    "rag_pipeline(query)"
   ]
  },
  {
   "cell_type": "code",
   "execution_count": 6,
   "id": "588b0c24-d02a-4376-8356-d40be80c3a13",
   "metadata": {},
   "outputs": [
    {
     "data": {
      "text/plain": [
       "'Монгол Улс нь ихэвчлэн мандарин болон монгол хэлээр ярьдаг улс тул Англи хэлний сургалт явуулдаг улс биш юм.. Хэрэв та монголд англи хэл сурах эсвэл хэлний сургалтын боломжуудыг судлах сонирхолтой бол дараахь сонголттой болно: 1. **Улаанбаатар хотын хэлний сургууль**: Монгол Улсын нийслэл Улаанбаатар хотын зарим хэлний сургуулиуд гадаадын иргэдэд англи хэлний сургалт явуулдаг. Эдгээр сургалтуудыг бизнес эрхлэгчид, жуулчид, эсвэл англи хэлний ур чадвараа сайжруулахыг хүссэн иргэдэд зориулж зохион байгуулж болно.. 2 .. **Монголын салбартай олон улсын хэлний сургууль**: Зарим олон улсын хэлний сургууль, жишээ нь British Council эсвэл Cambridge Assessment International Education нь Улаанбаатар хотод салбартай бөгөөд англи хэлний сургалт явуулдаг.. Гэсэн хэдий ч эдгээр хөтөлбөрүүд нь монгол оюутнуудад зориулагдсан биш байж болно.. 3 .. ** Онлайнаар хэл сурах платформ**: Онлайнаар суралцах нь нэмэгдэж байгаатай холбогдуулан та Монгол Улс тэргүүтэй дэлхийн хаанаас ч англи хэлний сургалтанд хамрагдаж болно. Duolingo, Coursera, edX зэрэг вэбсайтууд англи хэлний сургалт, хэлний өргөн хүрээг санал болгодог. Ирланд дахь Англи хэлний сургалтын сургалтын төлбөр нь тухайн сургууль, сургалтын төрөл, түвшингээс хамаарч өөр өөр байдаг.. g. , эхлэгч, дунд зэргийн, дэвшилтэт). Ирланд дахь Англи хэлний сургалтын сургалтын төлбөрийн ойролцоо хэмжээ: * **Гриффитын коллеж**: жилд 7000 - 10000 евро * **Дублины хотын их сургууль**: жилд 6000 - 9000 евро * **Тринити коллеж Дублин**: жилд 8000 - 12000 евро. Үнийн талаар илүү сайн ойлголт гаргахын тулд монгол оюутнуудад зориулсан англи хэлний сургалтын сургалтын төлбөрийн жишээг хүргэж байна: * ** Улаанбаатар хотын хэлний сургууль**: 400,000 - 1,200,000 MNT (даяар € 700 - € 2,000 USD) жилд * ** Онлайн сургалт**: € 500 - € 1,000 жилд. Хэрэв та Англи хэл сурах эсвэл Монгол Улсад хэлний сургалтын боломжийг судлах сонирхолтой бол тодорхой байгууллага, хөтөлбөр, цахим эх үүсвэрийг судлахыг зөвлөж байна.'"
      ]
     },
     "execution_count": 6,
     "metadata": {},
     "output_type": "execute_result"
    }
   ],
   "source": [
    "query = 'Mongolian: Language courses tuitions are in Ireland?'\n",
    "rag_pipeline(query)"
   ]
  },
  {
   "cell_type": "code",
   "execution_count": 7,
   "id": "d2aaea60-bfb0-4fc7-8163-bf1c154098cd",
   "metadata": {},
   "outputs": [
    {
     "data": {
      "text/plain": [
       "'Ирланд нь амьдрах зардлын хувьд Европын хамгийн өндөр орнуудын нэг гэдгээрээ алдартай. Гэсэн хэдий ч анхааралтай төлөвлөж, төсөвлөж чадвал оюутнууд санхүүгийн асуудлыг үр дүнтэй удирдаж, сайхан амьдрах боломжтой. Ирландын оюутнуудын сар бүрийн амьдрах зардлын тооцоо: 1. ** Орон сууц:** * Орон сууцны хүрээлэн: долоо хоногт 209-300 евро (хоёр сард ойролцоогоор 1100-1600 евро) * Орон сууцны хүрээлэн: сарын 600-1200 евро 2. ** хоол:** * гадаа хооллодог: хоолны нэг удаагийн 10-15 евро * хүнсний бүтээгдэхүүн: 50-75 евро долоо хоногт 3. ** Тээврийн хэрэгсэл:** * Тээврийн сарын зардал: 120-150 евро (Студентын лип картыг ашиглах) 4. **Нийтийн үйлчилгээ:** * Цахилгаан эрчим хүч, ус, интернет: 100-150 евро сард 5. ** Бусад зардал:** * Амралт: 200-300 евро сар бүр * Бусад: 50-100 евро сар бүр Нийтдээ оюутнууд Ирландын амьдрах зардлаар сар бүр 2000-3000 евро зарцуулах боломжтой.. Таны тооцоолсон орлого, зардлын талаар илүү сайн ойлголттой байхын тулд энд жишээ авч үзье: ** Орлого:** * Сургалтын төлбөр: € 10,000-€ 15,000 жилд (курсаас хамаарч) * Сургалтын тэтгэлэг / санхүүгийн тусламж: € 5,000-€ 10,000 жилд (хууль ёсны) Нийт орлого: € 15,000-€ 25,000 жилд ** Хөдөлмөр:** * Амьдралын зардал: € 2,000-€ 3,000 сард * Бусад зардал: € 500-€ 1,000 сард Нийт зардал: € 24,000-€ 36,000 жилд. Энэ бол дөнгөж тооцоолсон үнэлгээ гэдгийг санаарай.. Дублин, Корк, Лимерикийн тодорхой зардлыг судалж, юу хүлээж авах талаар илүү сайн ойлгох нь үргэлж сайн санагдана..'"
      ]
     },
     "execution_count": 7,
     "metadata": {},
     "output_type": "execute_result"
    }
   ],
   "source": [
    "query = 'Whats the living expense like in Ireland?'\n",
    "rag_pipeline(query)"
   ]
  },
  {
   "cell_type": "code",
   "execution_count": 8,
   "id": "6187bcc1-4de6-4d40-b2d7-0ad3752eddbf",
   "metadata": {},
   "outputs": [
    {
     "data": {
      "text/plain": [
       "'Ирланд дахь оюутны орон сууцыг олохын тулд дараахь алхамуудыг дагах хэрэгтэй: 1. ** Их сургуулийн орон сууцны газартай холбоо бариарай**: Оюутны орон сууц олох талаар зөвлөгөө авахын тулд University College Cork (UCC) -ийн орон сууц, нийгмийн амьдралын газартай холбоо бариарай.. Тэд ашиглах боломжтой сонголтууд, үнэ, хүсэлт гаргах үйл явцын талаар мэдээлэл өгөх боломжтой. 2 .. ** Их сургуулийн цахим хуудсыг үзээрэй**: UCC-ийн цахим хуудсыг зочилж, Орон сууцны хэсгийг судалж, одоогоор зөвшөөрөгдсөн үйлчилгээ үзүүлэгчдийн жагсаалт, тэдгээрийн холбооны мэдээллийг багтаасан оюутны байрны талаар дэлгэрэнгүй мэдээлэл олж болно.. 3 .. **Онлайн нөөцийг ашиглах**: * **Оюутны орон сууц. com**: Энэ вэбсайт нь Ирландын оюутны орон сууцны сонголтуудын бүрэн жагсаалтыг үзүүлдэг.. * **Нэг байр. com**: Uniplaces нь Ирландын тэргүүтэй Европын орон сууцны үйлчилгээ үзүүлэгчидтэй оюутнуудыг холбодог алдартай платформ юм.. Сурагчдын өрөө. ie**: StudentRoom бол Ирландын оюутны орон сууцны сонголтуудыг жагсаалтад оруулсан өөр нэг онлайн нөөц юм.. 4 .. **Орон нутгийн үйлчилгээ үзүүлэгчидтэй шууд холбоо бариарай**: Орон нутгийн үл хөдлөх хөрөнгийн менежерүүд, эзэмшигч, үл хөдлөх хөрөнгийн агентлагуудтай холбоо барьж, ашиглах боломжтой өрөө, орон сууцны талаар асуух. Та тэдгээрийн холбооны мэдээллийг Google гэх мэт онлайнаар дамжуулан, эсвэл одоогийн оюутнууд болон сая төгссөн оюутнуудаас зөвлөмж асууж олох боломжтой.. 5 .. **Өргөөлсөн орон сууц**: Гэр, байшингаа бусад оюутнуудтай хуваалцах нь Ирландын оюутны амьдралыг мэдэрэх эдийн засгийн үр ашигтай, нийгмийн арга зам байж болно.. Хамтарсан орон сууцны сонголтыг дээр дурдсан вэбсайтуудаас эсвэл орон нутгийн үйлчилгээ үзүүлэгчидээс хай. 6. ** UCC-ийн Оюутны байршуулал үйлчилгээг шалгаарай**: Хэрэв та аль хэдийнээ кампуст амьдрахаар хүсэлт гаргасан бол UCC-ийн оюутан байршуулал үйлчилгээг авах боломжтой эсэхийг шалгаарай.. ** Нэмэлт зөвлөмж:** * Өргөн нэвтэрсэн байрны сонгон шалгаруулалтыг эрт эхлээрэй.. * Орон сууцны гэрээг баталгаажуулахын тулд орлого, боловсролын зэрэг баримт бичиг өгөхөд бэлэн байх. * Ирланд руу ирэхээс өмнө иргэдийн зах зээлийг мэдэрч, одоогийн оюутан, төгсөгчтэй харилцах. * Оролцооны газар болон оюутны дэмжлэг үзүүлэх бусад байгууллагаас асуулт асуух, зөвлөгөө авахыг бүү ай. Эдгээр алхамуудыг дагаж Ирланд улсад оюутан орон сууц олох боломжийг нэмэгдүүлнэ. Баярлалаа!.'"
      ]
     },
     "execution_count": 8,
     "metadata": {},
     "output_type": "execute_result"
    }
   ],
   "source": [
    "query = 'How to find student accomidation in Ireland?'\n",
    "rag_pipeline(query)"
   ]
  },
  {
   "cell_type": "code",
   "execution_count": 9,
   "id": "858465eb-0b91-4171-8e44-dcc08283b596",
   "metadata": {},
   "outputs": [
    {
     "data": {
      "text/plain": [
       "'Ирланд нь сүүлийн жилүүдэд мэдээллийн шинжлэх ухааны оюутнууд, мэргэжилтнүүдийн хувьд олны анхаарлыг татсан газар болж байгаа нь технологийн салбар, эрдэм шинжилгээний байгууллага, дэлхийн түвшний их дээд сургуулиудын хөгжил дэвшилийн ачаар юм.. Ирландын шилдэг мэдээллийн шинжлэх ухааны хөтөлбөрүүдийг санал болгодог дээд сургуулиуд: 1. **University College Dublin (UCD)**: UCD-ийн Компьютерийн сургууль нь Ирландын хамгийн том, хамгийн нэр хүндтэй компьютерийн шинжлэх ухааны сургуулиудын нэг юм.. Энэ нь өгөгдлийн шинжлэх ухааны болон шинжилгээний магистр зэрэг хамруулж, өгөгдлийн шинжлэх ухааны болон шинжилгээний чиглэлээр бакалаврын болон магистрын зэрэг олгодог.. 2 .. **Trinity College Dublin (TCD)**: TCD-ийн Компьютерийн шинжлэх ухаан, инженерчлэлийн сургууль нь Мэдээллийн шинжлэх ухааны чиглэлээр мэргэшсэн Компьютерийн бакалавр, Мэдээллийн шинжлэх ухааны чиглэлээр MPhil / PhD-ийг санал болгодог. Тус их сургууль нь судалгааны боломж, хамтын ажиллагааг олгодог \"Insight Centre for Data Science\"-ийн байршил юм.. 3 .. ** Дублины хотын их сургууль (DCU) **: DCU-ийн Компьютерийн сургууль нь өгөгдлийн шинжлэх ухааны салбарт хүчтэй анхаарч, Мэдээллийн шинжлэх ухааны чиглэлээр мэргэшсэн Компьютерийн бакалаврыг санал болгодог. Мөн DCU-ийн Мэдээллийн шинжлэх ухааны үзэл баримтлалын төв нь инновацийг дэмжих зорилгоор салбарын түншүүдтэй хамтран ажилладаг.. 4 .. **Лимерикийн их сургууль (UL) **: UL-ийн Компьютерийн шинжлэх ухаан, ухаалаг системийн сургууль нь өгөгдлийн шинжлэх ухааны чиглэлээр олон төрлийн бакалаврын болон магистрын зэрэг олгодог.. 5 .. **Maynooth University**: Maynooth-ийн Компьютерийн сургууль нь Мэдээллийн шинжлэх ухааны чиглэлээр мэргэшсэн Компьютерийн бакалавр, Мэдээллийн шинжлэх ухааны MPhil / PhD зэргийг санал болгодог. Тус их сургууль нь эрдэм шинжилгээний боломж, хамтын ажиллагааг олгодог Ирландын өндөр гүйцэтгэлийн компьютерийн төв (ICHPC) бас байрладаг.. Эдгээр их сургуулиуд нь дэлхийн хэмжээнд хүлээн зөвшөөрөгдсөн өндөр чанартай мэдээллийн шинжлэх ухааны хөтөлбөрүүдийг санал болгодог.. Гэсэн хэдий ч их сургууль сонгохдоо хөтөлбөрийн сургалтын хөтөлбөр, судалгааны боломжууд, салбарын харилцаа, кампусын соёл зэрэг хүчин зүйлсийг авч үзэх нь чухал юм.. ** Програм сургалтын хөтөлбөр:** * UCD-ийн Компьютерийн сургууль нь өгөгдлийн бүтэц, алгоритм, машины сургалт, өгөгдлийн дүрсэлтийг хамарсан иж бүрэн сургалтын хөтөлбөрийг санал болгодог. * TCD-ийн Компьютерийн Шинжлэх ухаан, Инженерийн Сургууль нь мэдээллийн олборлолт, мэдээллийн агуулах, бизнесийн тагнуулын сургалтуудыг багтаасан нарийн хөтөлбөр олгодог. * DCU-ийн Компьютерийн Сургууль нь практик ур чадварыг хөгжүүлэхэд анхаардаг бөгөөд өгөгдлийн урьдчилсан боловсруулалт, шинж чанарыг боловсруулах, загварын үнэлгээг хамарсан сургалтуудтай.. **Эрдэм шинжилгээний боломж:** * Дублины Тринити коллежийн Мэдээллийн шинжлэх ухааны үзэл баримтлалын төв нь аж үйлдвэрийн түншүүдтэй хамтран инновацийг дэмжих, оюутнуудад эрдэм шинжилгээний боломжийг олгодог. * Лимерикийн их сургуулийн Компьютерийн шинжлэх ухаан, ухаалаг системийн сургууль нь байгалийн хэл боловсруулах, компьютерийн хараа, машинны сургалт зэрэг салбарт эрдэм шинжилгээ хийхэд ихээхэн анхаардаг.. ** Аж үйлдвэрийн холбоо:** * UCD-ийн Компьютерийн сургууль нь технологийн салбартай хүчтэй холбоотой бөгөөд Google, Microsoft зэрэг компаниудтай хамтран ажилладаг. * \"Trinity College\" Дублины \"Insight Centre for Data Science\" нь шинэчлэлийг дэмжих, эрдэм шинжилгээний боломжийг бүрдүүлэх зорилгоор салбарын түншүүдтэй хамтран ажилладаг. Эцсийн эцэст Ирландын хамгийн сайн мэдээллийн шинжлэх ухааны их сургууль нь таны хувийн хэрэгцээ, сонирхол, зорилгоос хамаарна.. Аливаа хөтөлбөрийг нарийвчлан судалж, их дээд сургуулийн төлөөлөгчид болон төгсөгчдийг урьж, тухайн байгууллагын санал болгож буй зүйлсийг гүнзгийрүүлсэн ойлголттой байхыг зөвлөж байна..'"
      ]
     },
     "execution_count": 9,
     "metadata": {},
     "output_type": "execute_result"
    }
   ],
   "source": [
    "query = 'Can you reccomend me a university in Ireland for Data Science'\n",
    "rag_pipeline(query)"
   ]
  },
  {
   "cell_type": "code",
   "execution_count": null,
   "id": "b7d9bebe-ade3-49dd-828b-a1a3355dcb7d",
   "metadata": {},
   "outputs": [],
   "source": []
  }
 ],
 "metadata": {
  "kernelspec": {
   "display_name": "Python 3 (ipykernel)",
   "language": "python",
   "name": "python3"
  },
  "language_info": {
   "codemirror_mode": {
    "name": "ipython",
    "version": 3
   },
   "file_extension": ".py",
   "mimetype": "text/x-python",
   "name": "python",
   "nbconvert_exporter": "python",
   "pygments_lexer": "ipython3",
   "version": "3.11.13"
  }
 },
 "nbformat": 4,
 "nbformat_minor": 5
}
